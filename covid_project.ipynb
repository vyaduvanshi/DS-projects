version https://git-lfs.github.com/spec/v1
oid sha256:77f8f6eff1e4cfc1b14b6f2575320c27ce24d41a4834d1a1150b7cb46aaf0d46
size 32619149
