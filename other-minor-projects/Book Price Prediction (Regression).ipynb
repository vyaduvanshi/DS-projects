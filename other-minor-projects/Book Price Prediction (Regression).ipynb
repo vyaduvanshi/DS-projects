{
 "cells": [
  {
   "cell_type": "markdown",
   "metadata": {},
   "source": [
    "Books are open doors to the unimagined worlds which is unique to every person. It is more than just a hobby for many. There are many among us who prefer to spend more time with books than anything else.\n",
    "\n",
    "Here we explore a big database of books. Books of different genres, from thousands of authors. In this challenge, participants are required to use the dataset to build a Machine Learning model to predict the price of books based on a given set of features."
   ]
  },
  {
   "cell_type": "markdown",
   "metadata": {},
   "source": [
    "# FEATURES:\n",
    "\n",
    "*  Title: The title of the book\n",
    "\n",
    "*  Author: The author(s) of the book.\n",
    "\n",
    "*  Edition: The edition of the book eg (Paperback,– Import, 26 Apr 2018)\n",
    "\n",
    "*  Reviews: The customer reviews about the book\n",
    "\n",
    "*  Ratings: The customer ratings of the book\n",
    "\n",
    "*  Synopsis: The synopsis of the book\n",
    "\n",
    "*  Genre: The genre the book belongs to\n",
    "\n",
    "*  BookCategory: The department the book is usually available at.\n",
    "\n",
    "*  Price: The price of the book (Target variable)"
   ]
  },
  {
   "cell_type": "code",
   "execution_count": 1,
   "metadata": {},
   "outputs": [],
   "source": [
    "import pandas as pd\n",
    "import seaborn as sns\n",
    "import matplotlib.pyplot as plt\n",
    "from sklearn.preprocessing import LabelEncoder\n",
    "from sklearn.linear_model import LinearRegression\n",
    "from sklearn.metrics import r2_score\n",
    "from sklearn.metrics import mean_squared_error\n",
    "import numpy as np\n",
    "import warnings\n",
    "warnings.filterwarnings(\"ignore\")"
   ]
  },
  {
   "cell_type": "code",
   "execution_count": 2,
   "metadata": {},
   "outputs": [
    {
     "data": {
      "text/plain": [
       "'C:\\\\Users\\\\zZE94\\\\Desktop\\\\BoardInfinity\\\\Capstone ML Project\\\\Book Price Prediction'"
      ]
     },
     "execution_count": 2,
     "metadata": {},
     "output_type": "execute_result"
    }
   ],
   "source": [
    "import os\n",
    "os.getcwd()"
   ]
  },
  {
   "cell_type": "code",
   "execution_count": 3,
   "metadata": {},
   "outputs": [],
   "source": [
    "traindf = pd.read_csv(\"TrainDataset.csv\")\n",
    "testdf = pd.read_csv(\"TestDataset.csv\")"
   ]
  },
  {
   "cell_type": "code",
   "execution_count": 4,
   "metadata": {
    "scrolled": true
   },
   "outputs": [
    {
     "data": {
      "text/html": [
       "<div>\n",
       "<style scoped>\n",
       "    .dataframe tbody tr th:only-of-type {\n",
       "        vertical-align: middle;\n",
       "    }\n",
       "\n",
       "    .dataframe tbody tr th {\n",
       "        vertical-align: top;\n",
       "    }\n",
       "\n",
       "    .dataframe thead th {\n",
       "        text-align: right;\n",
       "    }\n",
       "</style>\n",
       "<table border=\"1\" class=\"dataframe\">\n",
       "  <thead>\n",
       "    <tr style=\"text-align: right;\">\n",
       "      <th></th>\n",
       "      <th>Title</th>\n",
       "      <th>Author</th>\n",
       "      <th>Edition</th>\n",
       "      <th>Reviews</th>\n",
       "      <th>Ratings</th>\n",
       "      <th>Synopsis</th>\n",
       "      <th>Genre</th>\n",
       "      <th>BookCategory</th>\n",
       "      <th>Price</th>\n",
       "    </tr>\n",
       "  </thead>\n",
       "  <tbody>\n",
       "    <tr>\n",
       "      <th>0</th>\n",
       "      <td>Geek Heresy</td>\n",
       "      <td>Kentaro Toyama</td>\n",
       "      <td>Hardcover,– 26 May 2015</td>\n",
       "      <td>5.0 out of 5 stars</td>\n",
       "      <td>3 customer reviews</td>\n",
       "      <td>After a decade designing technologies meant to...</td>\n",
       "      <td>Economic Policy &amp; Development</td>\n",
       "      <td>Computing, Internet &amp; Digital Media</td>\n",
       "      <td>799.0</td>\n",
       "    </tr>\n",
       "    <tr>\n",
       "      <th>1</th>\n",
       "      <td>Americanah</td>\n",
       "      <td>Chimamanda Ngozi Adichie</td>\n",
       "      <td>Paperback,– 25 Jul 2014</td>\n",
       "      <td>4.1 out of 5 stars</td>\n",
       "      <td>49 customer reviews</td>\n",
       "      <td>As teenagers in Lagos, Ifemelu and Obinze fall...</td>\n",
       "      <td>Romance (Books)</td>\n",
       "      <td>Romance</td>\n",
       "      <td>223.0</td>\n",
       "    </tr>\n",
       "    <tr>\n",
       "      <th>2</th>\n",
       "      <td>AWS Certified Solutions Architect Associate Al...</td>\n",
       "      <td>Joyjeet Banerjee</td>\n",
       "      <td>Paperback,– Audiobook, 10 Aug 2018</td>\n",
       "      <td>3.9 out of 5 stars</td>\n",
       "      <td>4 customer reviews</td>\n",
       "      <td>This effective study guide provides 100% cover...</td>\n",
       "      <td>Networks &amp; System Administration (Books)</td>\n",
       "      <td>Computing, Internet &amp; Digital Media</td>\n",
       "      <td>2677.0</td>\n",
       "    </tr>\n",
       "    <tr>\n",
       "      <th>3</th>\n",
       "      <td>Oxford Practice Grammar Intermediate: With Key...</td>\n",
       "      <td>John Eastwood</td>\n",
       "      <td>Paperback,– 16 Jul 2012</td>\n",
       "      <td>4.9 out of 5 stars</td>\n",
       "      <td>14 customer reviews</td>\n",
       "      <td>Oxford Practice Grammar knows that students ne...</td>\n",
       "      <td>Language &amp; Linguistics</td>\n",
       "      <td>Language, Linguistics &amp; Writing</td>\n",
       "      <td>675.0</td>\n",
       "    </tr>\n",
       "    <tr>\n",
       "      <th>4</th>\n",
       "      <td>Yoga for All: Discovering the True Essence of ...</td>\n",
       "      <td>Hansaji J. Yogendra</td>\n",
       "      <td>Paperback,– 20 Aug 2018</td>\n",
       "      <td>5.0 out of 5 stars</td>\n",
       "      <td>11 customer reviews</td>\n",
       "      <td>Written by one of India’s foremost yoga gurus,...</td>\n",
       "      <td>Mind, Body &amp; Spirit (Books)</td>\n",
       "      <td>Language, Linguistics &amp; Writing</td>\n",
       "      <td>204.0</td>\n",
       "    </tr>\n",
       "  </tbody>\n",
       "</table>\n",
       "</div>"
      ],
      "text/plain": [
       "                                               Title  \\\n",
       "0                                        Geek Heresy   \n",
       "1                                         Americanah   \n",
       "2  AWS Certified Solutions Architect Associate Al...   \n",
       "3  Oxford Practice Grammar Intermediate: With Key...   \n",
       "4  Yoga for All: Discovering the True Essence of ...   \n",
       "\n",
       "                     Author                             Edition  \\\n",
       "0            Kentaro Toyama             Hardcover,– 26 May 2015   \n",
       "1  Chimamanda Ngozi Adichie             Paperback,– 25 Jul 2014   \n",
       "2          Joyjeet Banerjee  Paperback,– Audiobook, 10 Aug 2018   \n",
       "3             John Eastwood             Paperback,– 16 Jul 2012   \n",
       "4       Hansaji J. Yogendra             Paperback,– 20 Aug 2018   \n",
       "\n",
       "              Reviews              Ratings  \\\n",
       "0  5.0 out of 5 stars   3 customer reviews   \n",
       "1  4.1 out of 5 stars  49 customer reviews   \n",
       "2  3.9 out of 5 stars   4 customer reviews   \n",
       "3  4.9 out of 5 stars  14 customer reviews   \n",
       "4  5.0 out of 5 stars  11 customer reviews   \n",
       "\n",
       "                                            Synopsis  \\\n",
       "0  After a decade designing technologies meant to...   \n",
       "1  As teenagers in Lagos, Ifemelu and Obinze fall...   \n",
       "2  This effective study guide provides 100% cover...   \n",
       "3  Oxford Practice Grammar knows that students ne...   \n",
       "4  Written by one of India’s foremost yoga gurus,...   \n",
       "\n",
       "                                      Genre  \\\n",
       "0             Economic Policy & Development   \n",
       "1                           Romance (Books)   \n",
       "2  Networks & System Administration (Books)   \n",
       "3                    Language & Linguistics   \n",
       "4               Mind, Body & Spirit (Books)   \n",
       "\n",
       "                          BookCategory   Price  \n",
       "0  Computing, Internet & Digital Media   799.0  \n",
       "1                              Romance   223.0  \n",
       "2  Computing, Internet & Digital Media  2677.0  \n",
       "3      Language, Linguistics & Writing   675.0  \n",
       "4      Language, Linguistics & Writing   204.0  "
      ]
     },
     "execution_count": 4,
     "metadata": {},
     "output_type": "execute_result"
    }
   ],
   "source": [
    "traindf.head()"
   ]
  },
  {
   "cell_type": "code",
   "execution_count": 5,
   "metadata": {},
   "outputs": [
    {
     "data": {
      "text/html": [
       "<div>\n",
       "<style scoped>\n",
       "    .dataframe tbody tr th:only-of-type {\n",
       "        vertical-align: middle;\n",
       "    }\n",
       "\n",
       "    .dataframe tbody tr th {\n",
       "        vertical-align: top;\n",
       "    }\n",
       "\n",
       "    .dataframe thead th {\n",
       "        text-align: right;\n",
       "    }\n",
       "</style>\n",
       "<table border=\"1\" class=\"dataframe\">\n",
       "  <thead>\n",
       "    <tr style=\"text-align: right;\">\n",
       "      <th></th>\n",
       "      <th>Title</th>\n",
       "      <th>Author</th>\n",
       "      <th>Edition</th>\n",
       "      <th>Reviews</th>\n",
       "      <th>Ratings</th>\n",
       "      <th>Synopsis</th>\n",
       "      <th>Genre</th>\n",
       "      <th>BookCategory</th>\n",
       "    </tr>\n",
       "  </thead>\n",
       "  <tbody>\n",
       "    <tr>\n",
       "      <th>0</th>\n",
       "      <td>When I Stop Talking, You'll Know I'm Dead</td>\n",
       "      <td>Jerry Weintraub</td>\n",
       "      <td>Paperback,– 23 Mar 2011</td>\n",
       "      <td>4.7 out of 5 stars</td>\n",
       "      <td>4 customer reviews</td>\n",
       "      <td>Here is the story of Jerry Weintraub: the self...</td>\n",
       "      <td>Cinema &amp; Broadcast (Books)</td>\n",
       "      <td>Humour</td>\n",
       "    </tr>\n",
       "    <tr>\n",
       "      <th>1</th>\n",
       "      <td>Alex Rider 11: Never Say Die</td>\n",
       "      <td>Anthony Horowitz</td>\n",
       "      <td>Paperback,– Jul 2018</td>\n",
       "      <td>4.5 out of 5 stars</td>\n",
       "      <td>17 customer reviews</td>\n",
       "      <td>Alex Rider is back in this brand new, explosiv...</td>\n",
       "      <td>Action &amp; Adventure (Books)</td>\n",
       "      <td>Action &amp; Adventure</td>\n",
       "    </tr>\n",
       "    <tr>\n",
       "      <th>2</th>\n",
       "      <td>A Legacy of Spies</td>\n",
       "      <td>John le Carré</td>\n",
       "      <td>Paperback,– 4 Oct 2017</td>\n",
       "      <td>4.1 out of 5 stars</td>\n",
       "      <td>29 customer reviews</td>\n",
       "      <td>Peter Guillam, staunch colleague and disciple ...</td>\n",
       "      <td>Action &amp; Adventure (Books)</td>\n",
       "      <td>Politics</td>\n",
       "    </tr>\n",
       "    <tr>\n",
       "      <th>3</th>\n",
       "      <td>Dark Places</td>\n",
       "      <td>Gillian Flynn</td>\n",
       "      <td>Paperback,– 10 Jun 2010</td>\n",
       "      <td>4.1 out of 5 stars</td>\n",
       "      <td>62 customer reviews</td>\n",
       "      <td>Your brother murdered your family. Your eviden...</td>\n",
       "      <td>Crime, Thriller &amp; Mystery (Books)</td>\n",
       "      <td>Crime, Thriller &amp; Mystery</td>\n",
       "    </tr>\n",
       "    <tr>\n",
       "      <th>4</th>\n",
       "      <td>A Pelican Introduction: The Human Planet: How ...</td>\n",
       "      <td>Simon Lewis</td>\n",
       "      <td>Mass Market Paperback,– Import, 24 Jul 2018</td>\n",
       "      <td>3.0 out of 5 stars</td>\n",
       "      <td>1 customer review</td>\n",
       "      <td>'Brilliantly written and genuinely one of the ...</td>\n",
       "      <td>Earth Sciences Textbooks</td>\n",
       "      <td>Crime, Thriller &amp; Mystery</td>\n",
       "    </tr>\n",
       "  </tbody>\n",
       "</table>\n",
       "</div>"
      ],
      "text/plain": [
       "                                               Title            Author  \\\n",
       "0          When I Stop Talking, You'll Know I'm Dead   Jerry Weintraub   \n",
       "1                       Alex Rider 11: Never Say Die  Anthony Horowitz   \n",
       "2                                  A Legacy of Spies     John le Carré   \n",
       "3                                        Dark Places     Gillian Flynn   \n",
       "4  A Pelican Introduction: The Human Planet: How ...       Simon Lewis   \n",
       "\n",
       "                                       Edition             Reviews  \\\n",
       "0                      Paperback,– 23 Mar 2011  4.7 out of 5 stars   \n",
       "1                         Paperback,– Jul 2018  4.5 out of 5 stars   \n",
       "2                       Paperback,– 4 Oct 2017  4.1 out of 5 stars   \n",
       "3                      Paperback,– 10 Jun 2010  4.1 out of 5 stars   \n",
       "4  Mass Market Paperback,– Import, 24 Jul 2018  3.0 out of 5 stars   \n",
       "\n",
       "               Ratings                                           Synopsis  \\\n",
       "0   4 customer reviews  Here is the story of Jerry Weintraub: the self...   \n",
       "1  17 customer reviews  Alex Rider is back in this brand new, explosiv...   \n",
       "2  29 customer reviews  Peter Guillam, staunch colleague and disciple ...   \n",
       "3  62 customer reviews  Your brother murdered your family. Your eviden...   \n",
       "4    1 customer review  'Brilliantly written and genuinely one of the ...   \n",
       "\n",
       "                               Genre               BookCategory  \n",
       "0         Cinema & Broadcast (Books)                     Humour  \n",
       "1         Action & Adventure (Books)         Action & Adventure  \n",
       "2         Action & Adventure (Books)                   Politics  \n",
       "3  Crime, Thriller & Mystery (Books)  Crime, Thriller & Mystery  \n",
       "4           Earth Sciences Textbooks  Crime, Thriller & Mystery  "
      ]
     },
     "execution_count": 5,
     "metadata": {},
     "output_type": "execute_result"
    }
   ],
   "source": [
    "testdf.head()"
   ]
  },
  {
   "cell_type": "code",
   "execution_count": 6,
   "metadata": {},
   "outputs": [
    {
     "data": {
      "text/plain": [
       "((4989, 9), (1248, 8))"
      ]
     },
     "execution_count": 6,
     "metadata": {},
     "output_type": "execute_result"
    }
   ],
   "source": [
    "traindf.shape, testdf.shape"
   ]
  },
  {
   "cell_type": "code",
   "execution_count": 7,
   "metadata": {},
   "outputs": [
    {
     "name": "stdout",
     "output_type": "stream",
     "text": [
      "<class 'pandas.core.frame.DataFrame'>\n",
      "RangeIndex: 4989 entries, 0 to 4988\n",
      "Data columns (total 9 columns):\n",
      "Title           4989 non-null object\n",
      "Author          4989 non-null object\n",
      "Edition         4989 non-null object\n",
      "Reviews         4989 non-null object\n",
      "Ratings         4989 non-null object\n",
      "Synopsis        4989 non-null object\n",
      "Genre           4989 non-null object\n",
      "BookCategory    4989 non-null object\n",
      "Price           4989 non-null float64\n",
      "dtypes: float64(1), object(8)\n",
      "memory usage: 350.9+ KB\n",
      "\n",
      "<class 'pandas.core.frame.DataFrame'>\n",
      "RangeIndex: 1248 entries, 0 to 1247\n",
      "Data columns (total 8 columns):\n",
      "Title           1248 non-null object\n",
      "Author          1248 non-null object\n",
      "Edition         1248 non-null object\n",
      "Reviews         1248 non-null object\n",
      "Ratings         1248 non-null object\n",
      "Synopsis        1248 non-null object\n",
      "Genre           1248 non-null object\n",
      "BookCategory    1248 non-null object\n",
      "dtypes: object(8)\n",
      "memory usage: 78.1+ KB\n"
     ]
    }
   ],
   "source": [
    "traindf.info()\n",
    "print()\n",
    "testdf.info()"
   ]
  },
  {
   "cell_type": "code",
   "execution_count": 8,
   "metadata": {},
   "outputs": [
    {
     "data": {
      "text/html": [
       "<div>\n",
       "<style scoped>\n",
       "    .dataframe tbody tr th:only-of-type {\n",
       "        vertical-align: middle;\n",
       "    }\n",
       "\n",
       "    .dataframe tbody tr th {\n",
       "        vertical-align: top;\n",
       "    }\n",
       "\n",
       "    .dataframe thead th {\n",
       "        text-align: right;\n",
       "    }\n",
       "</style>\n",
       "<table border=\"1\" class=\"dataframe\">\n",
       "  <thead>\n",
       "    <tr style=\"text-align: right;\">\n",
       "      <th></th>\n",
       "      <th>Price</th>\n",
       "    </tr>\n",
       "  </thead>\n",
       "  <tbody>\n",
       "    <tr>\n",
       "      <th>count</th>\n",
       "      <td>4989.000000</td>\n",
       "    </tr>\n",
       "    <tr>\n",
       "      <th>mean</th>\n",
       "      <td>560.629325</td>\n",
       "    </tr>\n",
       "    <tr>\n",
       "      <th>std</th>\n",
       "      <td>716.800911</td>\n",
       "    </tr>\n",
       "    <tr>\n",
       "      <th>min</th>\n",
       "      <td>28.000000</td>\n",
       "    </tr>\n",
       "    <tr>\n",
       "      <th>25%</th>\n",
       "      <td>248.000000</td>\n",
       "    </tr>\n",
       "    <tr>\n",
       "      <th>50%</th>\n",
       "      <td>372.000000</td>\n",
       "    </tr>\n",
       "    <tr>\n",
       "      <th>75%</th>\n",
       "      <td>599.000000</td>\n",
       "    </tr>\n",
       "    <tr>\n",
       "      <th>max</th>\n",
       "      <td>14100.000000</td>\n",
       "    </tr>\n",
       "  </tbody>\n",
       "</table>\n",
       "</div>"
      ],
      "text/plain": [
       "              Price\n",
       "count   4989.000000\n",
       "mean     560.629325\n",
       "std      716.800911\n",
       "min       28.000000\n",
       "25%      248.000000\n",
       "50%      372.000000\n",
       "75%      599.000000\n",
       "max    14100.000000"
      ]
     },
     "execution_count": 8,
     "metadata": {},
     "output_type": "execute_result"
    }
   ],
   "source": [
    "traindf.describe()"
   ]
  },
  {
   "cell_type": "code",
   "execution_count": 9,
   "metadata": {},
   "outputs": [
    {
     "data": {
      "text/plain": [
       "Title           0\n",
       "Author          0\n",
       "Edition         0\n",
       "Reviews         0\n",
       "Ratings         0\n",
       "Synopsis        0\n",
       "Genre           0\n",
       "BookCategory    0\n",
       "Price           0\n",
       "dtype: int64"
      ]
     },
     "execution_count": 9,
     "metadata": {},
     "output_type": "execute_result"
    }
   ],
   "source": [
    "traindf.isnull().sum()"
   ]
  },
  {
   "cell_type": "code",
   "execution_count": 10,
   "metadata": {},
   "outputs": [
    {
     "data": {
      "text/plain": [
       "Title           0\n",
       "Author          0\n",
       "Edition         0\n",
       "Reviews         0\n",
       "Ratings         0\n",
       "Synopsis        0\n",
       "Genre           0\n",
       "BookCategory    0\n",
       "dtype: int64"
      ]
     },
     "execution_count": 10,
     "metadata": {},
     "output_type": "execute_result"
    }
   ],
   "source": [
    "testdf.isnull().sum()"
   ]
  },
  {
   "cell_type": "markdown",
   "metadata": {},
   "source": [
    "<br>"
   ]
  },
  {
   "cell_type": "markdown",
   "metadata": {},
   "source": [
    "<b>Inferences so far:</b>\n",
    "\n",
    "1. The feature to be predicted here is `Price`.\n",
    "2. All features except `Price` are object-type. So, a lot of data cleaning and encoding needs to be done to convert them into numeric form.\n",
    "3. There are no null values in either the train or the test dataset."
   ]
  },
  {
   "cell_type": "markdown",
   "metadata": {},
   "source": [
    "<hr>"
   ]
  },
  {
   "cell_type": "markdown",
   "metadata": {},
   "source": [
    "# Data Cleaning"
   ]
  },
  {
   "cell_type": "markdown",
   "metadata": {},
   "source": [
    "<b>Steps performed:</b>\n",
    "\n",
    "1. Dropped the `Title` and `Synopsis` column.\n",
    "2. Cleaned and converted the values in `Reviews` column into numeric form.\n",
    "3. Cleaned and converted the values in `Ratings` column into numeric form.\n",
    "4. Divided `Edition` column into `Type` and `Date`\n",
    "5. Cleaned the `Date` column and divided it into `Year` and `Month`.\n",
    "6. Dropped the `Genre` column as `BookCategory` serves the same purpose.\n",
    "7. Dropped objects from `Type` the count of which were very low as they won't serve any purpose in the prediction.\n",
    "8. Converted the values in `Year` column into numeric form."
   ]
  },
  {
   "cell_type": "code",
   "execution_count": 11,
   "metadata": {},
   "outputs": [],
   "source": [
    "#Dropping `Title` and `Synopsis`\n",
    "\n",
    "traindf.drop('Title',axis=1, inplace=True)\n",
    "testdf.drop('Title',axis=1, inplace=True)\n",
    "traindf.drop('Synopsis', axis=1, inplace=True)\n",
    "testdf.drop('Synopsis', axis=1, inplace=True)"
   ]
  },
  {
   "cell_type": "code",
   "execution_count": 12,
   "metadata": {},
   "outputs": [],
   "source": [
    "#Cleaning `Review` and `Ratings` columns\n",
    "\n",
    "def cleanreview(x):\n",
    "    x = x.split()\n",
    "    x = float(x[0])\n",
    "    return x\n",
    "    \n",
    "def cleanratings(x):\n",
    "    x = x.replace(',','')\n",
    "    x = x.split()\n",
    "    x = int(x[0])\n",
    "    return x"
   ]
  },
  {
   "cell_type": "code",
   "execution_count": 13,
   "metadata": {},
   "outputs": [],
   "source": [
    "traindf['Reviews'] = traindf['Reviews'].apply(cleanreview)\n",
    "testdf['Reviews'] = testdf['Reviews'].apply(cleanreview)\n",
    "\n",
    "traindf['Ratings'] = traindf['Ratings'].apply(cleanratings)\n",
    "testdf['Ratings'] = testdf['Ratings'].apply(cleanratings)"
   ]
  },
  {
   "cell_type": "code",
   "execution_count": 14,
   "metadata": {},
   "outputs": [
    {
     "data": {
      "text/html": [
       "<div>\n",
       "<style scoped>\n",
       "    .dataframe tbody tr th:only-of-type {\n",
       "        vertical-align: middle;\n",
       "    }\n",
       "\n",
       "    .dataframe tbody tr th {\n",
       "        vertical-align: top;\n",
       "    }\n",
       "\n",
       "    .dataframe thead th {\n",
       "        text-align: right;\n",
       "    }\n",
       "</style>\n",
       "<table border=\"1\" class=\"dataframe\">\n",
       "  <thead>\n",
       "    <tr style=\"text-align: right;\">\n",
       "      <th></th>\n",
       "      <th>Author</th>\n",
       "      <th>Edition</th>\n",
       "      <th>Reviews</th>\n",
       "      <th>Ratings</th>\n",
       "      <th>Genre</th>\n",
       "      <th>BookCategory</th>\n",
       "      <th>Price</th>\n",
       "    </tr>\n",
       "  </thead>\n",
       "  <tbody>\n",
       "    <tr>\n",
       "      <th>0</th>\n",
       "      <td>Kentaro Toyama</td>\n",
       "      <td>Hardcover,– 26 May 2015</td>\n",
       "      <td>5.0</td>\n",
       "      <td>3</td>\n",
       "      <td>Economic Policy &amp; Development</td>\n",
       "      <td>Computing, Internet &amp; Digital Media</td>\n",
       "      <td>799.0</td>\n",
       "    </tr>\n",
       "    <tr>\n",
       "      <th>1</th>\n",
       "      <td>Chimamanda Ngozi Adichie</td>\n",
       "      <td>Paperback,– 25 Jul 2014</td>\n",
       "      <td>4.1</td>\n",
       "      <td>49</td>\n",
       "      <td>Romance (Books)</td>\n",
       "      <td>Romance</td>\n",
       "      <td>223.0</td>\n",
       "    </tr>\n",
       "    <tr>\n",
       "      <th>2</th>\n",
       "      <td>Joyjeet Banerjee</td>\n",
       "      <td>Paperback,– Audiobook, 10 Aug 2018</td>\n",
       "      <td>3.9</td>\n",
       "      <td>4</td>\n",
       "      <td>Networks &amp; System Administration (Books)</td>\n",
       "      <td>Computing, Internet &amp; Digital Media</td>\n",
       "      <td>2677.0</td>\n",
       "    </tr>\n",
       "    <tr>\n",
       "      <th>3</th>\n",
       "      <td>John Eastwood</td>\n",
       "      <td>Paperback,– 16 Jul 2012</td>\n",
       "      <td>4.9</td>\n",
       "      <td>14</td>\n",
       "      <td>Language &amp; Linguistics</td>\n",
       "      <td>Language, Linguistics &amp; Writing</td>\n",
       "      <td>675.0</td>\n",
       "    </tr>\n",
       "    <tr>\n",
       "      <th>4</th>\n",
       "      <td>Hansaji J. Yogendra</td>\n",
       "      <td>Paperback,– 20 Aug 2018</td>\n",
       "      <td>5.0</td>\n",
       "      <td>11</td>\n",
       "      <td>Mind, Body &amp; Spirit (Books)</td>\n",
       "      <td>Language, Linguistics &amp; Writing</td>\n",
       "      <td>204.0</td>\n",
       "    </tr>\n",
       "  </tbody>\n",
       "</table>\n",
       "</div>"
      ],
      "text/plain": [
       "                     Author                             Edition  Reviews  \\\n",
       "0            Kentaro Toyama             Hardcover,– 26 May 2015      5.0   \n",
       "1  Chimamanda Ngozi Adichie             Paperback,– 25 Jul 2014      4.1   \n",
       "2          Joyjeet Banerjee  Paperback,– Audiobook, 10 Aug 2018      3.9   \n",
       "3             John Eastwood             Paperback,– 16 Jul 2012      4.9   \n",
       "4       Hansaji J. Yogendra             Paperback,– 20 Aug 2018      5.0   \n",
       "\n",
       "   Ratings                                     Genre  \\\n",
       "0        3             Economic Policy & Development   \n",
       "1       49                           Romance (Books)   \n",
       "2        4  Networks & System Administration (Books)   \n",
       "3       14                    Language & Linguistics   \n",
       "4       11               Mind, Body & Spirit (Books)   \n",
       "\n",
       "                          BookCategory   Price  \n",
       "0  Computing, Internet & Digital Media   799.0  \n",
       "1                              Romance   223.0  \n",
       "2  Computing, Internet & Digital Media  2677.0  \n",
       "3      Language, Linguistics & Writing   675.0  \n",
       "4      Language, Linguistics & Writing   204.0  "
      ]
     },
     "execution_count": 14,
     "metadata": {},
     "output_type": "execute_result"
    }
   ],
   "source": [
    "traindf.head()"
   ]
  },
  {
   "cell_type": "code",
   "execution_count": 15,
   "metadata": {},
   "outputs": [],
   "source": [
    "#Cleaning the `Edition` column\n",
    "\n",
    "def cleanedition(x):\n",
    "    lis = x.split(\",–\")\n",
    "    date = lis[1].strip()\n",
    "    return date"
   ]
  },
  {
   "cell_type": "code",
   "execution_count": 16,
   "metadata": {},
   "outputs": [],
   "source": [
    "traindf['Date'] = traindf['Edition'].apply(cleanedition)\n",
    "testdf['Date'] = testdf['Edition'].apply(cleanedition)"
   ]
  },
  {
   "cell_type": "code",
   "execution_count": 17,
   "metadata": {},
   "outputs": [],
   "source": [
    "def cleanedition(x):\n",
    "    lis = x.split(\",–\")\n",
    "    typez = lis[0].strip()\n",
    "    return typez"
   ]
  },
  {
   "cell_type": "code",
   "execution_count": 18,
   "metadata": {},
   "outputs": [],
   "source": [
    "traindf['Type'] = traindf['Edition'].apply(cleanedition)\n",
    "testdf['Type'] = testdf['Edition'].apply(cleanedition)"
   ]
  },
  {
   "cell_type": "code",
   "execution_count": 19,
   "metadata": {},
   "outputs": [],
   "source": [
    "traindf.drop('Edition',axis=1, inplace=True)\n",
    "testdf.drop('Edition',axis=1, inplace=True)"
   ]
  },
  {
   "cell_type": "code",
   "execution_count": 20,
   "metadata": {},
   "outputs": [
    {
     "data": {
      "text/html": [
       "<div>\n",
       "<style scoped>\n",
       "    .dataframe tbody tr th:only-of-type {\n",
       "        vertical-align: middle;\n",
       "    }\n",
       "\n",
       "    .dataframe tbody tr th {\n",
       "        vertical-align: top;\n",
       "    }\n",
       "\n",
       "    .dataframe thead th {\n",
       "        text-align: right;\n",
       "    }\n",
       "</style>\n",
       "<table border=\"1\" class=\"dataframe\">\n",
       "  <thead>\n",
       "    <tr style=\"text-align: right;\">\n",
       "      <th></th>\n",
       "      <th>Author</th>\n",
       "      <th>Reviews</th>\n",
       "      <th>Ratings</th>\n",
       "      <th>Genre</th>\n",
       "      <th>BookCategory</th>\n",
       "      <th>Price</th>\n",
       "      <th>Date</th>\n",
       "      <th>Type</th>\n",
       "    </tr>\n",
       "  </thead>\n",
       "  <tbody>\n",
       "    <tr>\n",
       "      <th>0</th>\n",
       "      <td>Kentaro Toyama</td>\n",
       "      <td>5.0</td>\n",
       "      <td>3</td>\n",
       "      <td>Economic Policy &amp; Development</td>\n",
       "      <td>Computing, Internet &amp; Digital Media</td>\n",
       "      <td>799.0</td>\n",
       "      <td>26 May 2015</td>\n",
       "      <td>Hardcover</td>\n",
       "    </tr>\n",
       "    <tr>\n",
       "      <th>1</th>\n",
       "      <td>Chimamanda Ngozi Adichie</td>\n",
       "      <td>4.1</td>\n",
       "      <td>49</td>\n",
       "      <td>Romance (Books)</td>\n",
       "      <td>Romance</td>\n",
       "      <td>223.0</td>\n",
       "      <td>25 Jul 2014</td>\n",
       "      <td>Paperback</td>\n",
       "    </tr>\n",
       "    <tr>\n",
       "      <th>2</th>\n",
       "      <td>Joyjeet Banerjee</td>\n",
       "      <td>3.9</td>\n",
       "      <td>4</td>\n",
       "      <td>Networks &amp; System Administration (Books)</td>\n",
       "      <td>Computing, Internet &amp; Digital Media</td>\n",
       "      <td>2677.0</td>\n",
       "      <td>Audiobook, 10 Aug 2018</td>\n",
       "      <td>Paperback</td>\n",
       "    </tr>\n",
       "    <tr>\n",
       "      <th>3</th>\n",
       "      <td>John Eastwood</td>\n",
       "      <td>4.9</td>\n",
       "      <td>14</td>\n",
       "      <td>Language &amp; Linguistics</td>\n",
       "      <td>Language, Linguistics &amp; Writing</td>\n",
       "      <td>675.0</td>\n",
       "      <td>16 Jul 2012</td>\n",
       "      <td>Paperback</td>\n",
       "    </tr>\n",
       "    <tr>\n",
       "      <th>4</th>\n",
       "      <td>Hansaji J. Yogendra</td>\n",
       "      <td>5.0</td>\n",
       "      <td>11</td>\n",
       "      <td>Mind, Body &amp; Spirit (Books)</td>\n",
       "      <td>Language, Linguistics &amp; Writing</td>\n",
       "      <td>204.0</td>\n",
       "      <td>20 Aug 2018</td>\n",
       "      <td>Paperback</td>\n",
       "    </tr>\n",
       "  </tbody>\n",
       "</table>\n",
       "</div>"
      ],
      "text/plain": [
       "                     Author  Reviews  Ratings  \\\n",
       "0            Kentaro Toyama      5.0        3   \n",
       "1  Chimamanda Ngozi Adichie      4.1       49   \n",
       "2          Joyjeet Banerjee      3.9        4   \n",
       "3             John Eastwood      4.9       14   \n",
       "4       Hansaji J. Yogendra      5.0       11   \n",
       "\n",
       "                                      Genre  \\\n",
       "0             Economic Policy & Development   \n",
       "1                           Romance (Books)   \n",
       "2  Networks & System Administration (Books)   \n",
       "3                    Language & Linguistics   \n",
       "4               Mind, Body & Spirit (Books)   \n",
       "\n",
       "                          BookCategory   Price                    Date  \\\n",
       "0  Computing, Internet & Digital Media   799.0             26 May 2015   \n",
       "1                              Romance   223.0             25 Jul 2014   \n",
       "2  Computing, Internet & Digital Media  2677.0  Audiobook, 10 Aug 2018   \n",
       "3      Language, Linguistics & Writing   675.0             16 Jul 2012   \n",
       "4      Language, Linguistics & Writing   204.0             20 Aug 2018   \n",
       "\n",
       "        Type  \n",
       "0  Hardcover  \n",
       "1  Paperback  \n",
       "2  Paperback  \n",
       "3  Paperback  \n",
       "4  Paperback  "
      ]
     },
     "execution_count": 20,
     "metadata": {},
     "output_type": "execute_result"
    }
   ],
   "source": [
    "traindf.head()"
   ]
  },
  {
   "cell_type": "code",
   "execution_count": 21,
   "metadata": {},
   "outputs": [],
   "source": [
    "#Cleaning the `Date` column\n",
    "\n",
    "def cleandate(x):\n",
    "    try:\n",
    "        x = x[-11::1]\n",
    "    except:\n",
    "        x = x[-10::1]\n",
    "    return x"
   ]
  },
  {
   "cell_type": "code",
   "execution_count": 22,
   "metadata": {},
   "outputs": [],
   "source": [
    "traindf['Date'] = traindf['Date'].apply(cleandate)\n",
    "testdf['Date'] = testdf['Date'].apply(cleandate)"
   ]
  },
  {
   "cell_type": "code",
   "execution_count": 23,
   "metadata": {},
   "outputs": [],
   "source": [
    "def cleandate2(x):\n",
    "    x = x.split()\n",
    "    if len(x) == 1:\n",
    "        return x[0]\n",
    "    elif len(x) == 3:\n",
    "        return x[2]"
   ]
  },
  {
   "cell_type": "code",
   "execution_count": 24,
   "metadata": {},
   "outputs": [],
   "source": [
    "traindf['Year'] = traindf['Date'].apply(cleandate2)\n",
    "testdf['Year'] = testdf['Date'].apply(cleandate2)"
   ]
  },
  {
   "cell_type": "code",
   "execution_count": 25,
   "metadata": {},
   "outputs": [],
   "source": [
    "def cleandate3(x):\n",
    "    x = x.split()\n",
    "    if len(x) == 3:\n",
    "        return x[1]"
   ]
  },
  {
   "cell_type": "code",
   "execution_count": 26,
   "metadata": {},
   "outputs": [],
   "source": [
    "traindf['Month'] = traindf['Date'].apply(cleandate3)\n",
    "testdf['Month'] = testdf['Date'].apply(cleandate3)"
   ]
  },
  {
   "cell_type": "code",
   "execution_count": 27,
   "metadata": {},
   "outputs": [],
   "source": [
    "traindf.drop('Date',axis=1,inplace=True);\n",
    "testdf.drop('Date',axis=1, inplace=True)"
   ]
  },
  {
   "cell_type": "code",
   "execution_count": 28,
   "metadata": {
    "scrolled": true
   },
   "outputs": [
    {
     "data": {
      "text/html": [
       "<div>\n",
       "<style scoped>\n",
       "    .dataframe tbody tr th:only-of-type {\n",
       "        vertical-align: middle;\n",
       "    }\n",
       "\n",
       "    .dataframe tbody tr th {\n",
       "        vertical-align: top;\n",
       "    }\n",
       "\n",
       "    .dataframe thead th {\n",
       "        text-align: right;\n",
       "    }\n",
       "</style>\n",
       "<table border=\"1\" class=\"dataframe\">\n",
       "  <thead>\n",
       "    <tr style=\"text-align: right;\">\n",
       "      <th></th>\n",
       "      <th>Author</th>\n",
       "      <th>Reviews</th>\n",
       "      <th>Ratings</th>\n",
       "      <th>Genre</th>\n",
       "      <th>BookCategory</th>\n",
       "      <th>Price</th>\n",
       "      <th>Type</th>\n",
       "      <th>Year</th>\n",
       "      <th>Month</th>\n",
       "    </tr>\n",
       "  </thead>\n",
       "  <tbody>\n",
       "    <tr>\n",
       "      <th>0</th>\n",
       "      <td>Kentaro Toyama</td>\n",
       "      <td>5.0</td>\n",
       "      <td>3</td>\n",
       "      <td>Economic Policy &amp; Development</td>\n",
       "      <td>Computing, Internet &amp; Digital Media</td>\n",
       "      <td>799.0</td>\n",
       "      <td>Hardcover</td>\n",
       "      <td>2015</td>\n",
       "      <td>May</td>\n",
       "    </tr>\n",
       "    <tr>\n",
       "      <th>1</th>\n",
       "      <td>Chimamanda Ngozi Adichie</td>\n",
       "      <td>4.1</td>\n",
       "      <td>49</td>\n",
       "      <td>Romance (Books)</td>\n",
       "      <td>Romance</td>\n",
       "      <td>223.0</td>\n",
       "      <td>Paperback</td>\n",
       "      <td>2014</td>\n",
       "      <td>Jul</td>\n",
       "    </tr>\n",
       "    <tr>\n",
       "      <th>2</th>\n",
       "      <td>Joyjeet Banerjee</td>\n",
       "      <td>3.9</td>\n",
       "      <td>4</td>\n",
       "      <td>Networks &amp; System Administration (Books)</td>\n",
       "      <td>Computing, Internet &amp; Digital Media</td>\n",
       "      <td>2677.0</td>\n",
       "      <td>Paperback</td>\n",
       "      <td>2018</td>\n",
       "      <td>Aug</td>\n",
       "    </tr>\n",
       "    <tr>\n",
       "      <th>3</th>\n",
       "      <td>John Eastwood</td>\n",
       "      <td>4.9</td>\n",
       "      <td>14</td>\n",
       "      <td>Language &amp; Linguistics</td>\n",
       "      <td>Language, Linguistics &amp; Writing</td>\n",
       "      <td>675.0</td>\n",
       "      <td>Paperback</td>\n",
       "      <td>2012</td>\n",
       "      <td>Jul</td>\n",
       "    </tr>\n",
       "    <tr>\n",
       "      <th>4</th>\n",
       "      <td>Hansaji J. Yogendra</td>\n",
       "      <td>5.0</td>\n",
       "      <td>11</td>\n",
       "      <td>Mind, Body &amp; Spirit (Books)</td>\n",
       "      <td>Language, Linguistics &amp; Writing</td>\n",
       "      <td>204.0</td>\n",
       "      <td>Paperback</td>\n",
       "      <td>2018</td>\n",
       "      <td>Aug</td>\n",
       "    </tr>\n",
       "  </tbody>\n",
       "</table>\n",
       "</div>"
      ],
      "text/plain": [
       "                     Author  Reviews  Ratings  \\\n",
       "0            Kentaro Toyama      5.0        3   \n",
       "1  Chimamanda Ngozi Adichie      4.1       49   \n",
       "2          Joyjeet Banerjee      3.9        4   \n",
       "3             John Eastwood      4.9       14   \n",
       "4       Hansaji J. Yogendra      5.0       11   \n",
       "\n",
       "                                      Genre  \\\n",
       "0             Economic Policy & Development   \n",
       "1                           Romance (Books)   \n",
       "2  Networks & System Administration (Books)   \n",
       "3                    Language & Linguistics   \n",
       "4               Mind, Body & Spirit (Books)   \n",
       "\n",
       "                          BookCategory   Price       Type  Year Month  \n",
       "0  Computing, Internet & Digital Media   799.0  Hardcover  2015   May  \n",
       "1                              Romance   223.0  Paperback  2014   Jul  \n",
       "2  Computing, Internet & Digital Media  2677.0  Paperback  2018   Aug  \n",
       "3      Language, Linguistics & Writing   675.0  Paperback  2012   Jul  \n",
       "4      Language, Linguistics & Writing   204.0  Paperback  2018   Aug  "
      ]
     },
     "execution_count": 28,
     "metadata": {},
     "output_type": "execute_result"
    }
   ],
   "source": [
    "traindf.head()"
   ]
  },
  {
   "cell_type": "code",
   "execution_count": 29,
   "metadata": {},
   "outputs": [],
   "source": [
    "#Dropping `Genre` from both train and test\n",
    "\n",
    "traindf.drop('Genre', axis=1, inplace=True)\n",
    "testdf.drop('Genre', axis=1, inplace=True)"
   ]
  },
  {
   "cell_type": "code",
   "execution_count": 30,
   "metadata": {},
   "outputs": [],
   "source": [
    "#Dropping rows with missing values created in the process of dividing columns\n",
    "\n",
    "#traindf.dropna(how='any', axis=0, inplace=True)\n",
    "#testdf.dropna(how='any', axis=0, inplace=True)"
   ]
  },
  {
   "cell_type": "code",
   "execution_count": 31,
   "metadata": {},
   "outputs": [],
   "source": [
    "#Dropping extremely low value count objects from `Type`\n",
    "\n",
    "#index = traindf.Type.value_counts()[(traindf.Type.value_counts() < 16)].index\n",
    "#traindf.drop(traindf[(traindf[traindf.isin(index)].Type).notnull()].index, inplace=True);\n",
    "\n",
    "#index2 = testdf.Type.value_counts()[(testdf.Type.value_counts() < 10)].index\n",
    "#testdf.drop(testdf[(testdf[testdf.isin(index2)].Type).notnull()].index, inplace=True)"
   ]
  },
  {
   "cell_type": "code",
   "execution_count": 32,
   "metadata": {},
   "outputs": [],
   "source": [
    "#Dropping miscellaneous rows from `Year` that don't fit numeric type\n",
    "\n",
    "#traindf.drop(traindf[traindf.Year == 'set'].index, inplace=True);\n",
    "#testdf.drop(testdf[testdf.Year == 'set'].index, inplace=True);"
   ]
  },
  {
   "cell_type": "code",
   "execution_count": 33,
   "metadata": {},
   "outputs": [],
   "source": [
    "#Converting values in `Year` column to int\n",
    "\n",
    "#traindf['Year'] = traindf['Year'].astype(int);\n",
    "#testdf['Year'] = testdf['Year'].astype(int);"
   ]
  },
  {
   "cell_type": "code",
   "execution_count": 34,
   "metadata": {},
   "outputs": [
    {
     "data": {
      "text/html": [
       "<div>\n",
       "<style scoped>\n",
       "    .dataframe tbody tr th:only-of-type {\n",
       "        vertical-align: middle;\n",
       "    }\n",
       "\n",
       "    .dataframe tbody tr th {\n",
       "        vertical-align: top;\n",
       "    }\n",
       "\n",
       "    .dataframe thead th {\n",
       "        text-align: right;\n",
       "    }\n",
       "</style>\n",
       "<table border=\"1\" class=\"dataframe\">\n",
       "  <thead>\n",
       "    <tr style=\"text-align: right;\">\n",
       "      <th></th>\n",
       "      <th>Author</th>\n",
       "      <th>Reviews</th>\n",
       "      <th>Ratings</th>\n",
       "      <th>BookCategory</th>\n",
       "      <th>Price</th>\n",
       "      <th>Type</th>\n",
       "      <th>Year</th>\n",
       "      <th>Month</th>\n",
       "    </tr>\n",
       "  </thead>\n",
       "  <tbody>\n",
       "    <tr>\n",
       "      <th>0</th>\n",
       "      <td>Kentaro Toyama</td>\n",
       "      <td>5.0</td>\n",
       "      <td>3</td>\n",
       "      <td>Computing, Internet &amp; Digital Media</td>\n",
       "      <td>799.0</td>\n",
       "      <td>Hardcover</td>\n",
       "      <td>2015</td>\n",
       "      <td>May</td>\n",
       "    </tr>\n",
       "    <tr>\n",
       "      <th>1</th>\n",
       "      <td>Chimamanda Ngozi Adichie</td>\n",
       "      <td>4.1</td>\n",
       "      <td>49</td>\n",
       "      <td>Romance</td>\n",
       "      <td>223.0</td>\n",
       "      <td>Paperback</td>\n",
       "      <td>2014</td>\n",
       "      <td>Jul</td>\n",
       "    </tr>\n",
       "    <tr>\n",
       "      <th>2</th>\n",
       "      <td>Joyjeet Banerjee</td>\n",
       "      <td>3.9</td>\n",
       "      <td>4</td>\n",
       "      <td>Computing, Internet &amp; Digital Media</td>\n",
       "      <td>2677.0</td>\n",
       "      <td>Paperback</td>\n",
       "      <td>2018</td>\n",
       "      <td>Aug</td>\n",
       "    </tr>\n",
       "    <tr>\n",
       "      <th>3</th>\n",
       "      <td>John Eastwood</td>\n",
       "      <td>4.9</td>\n",
       "      <td>14</td>\n",
       "      <td>Language, Linguistics &amp; Writing</td>\n",
       "      <td>675.0</td>\n",
       "      <td>Paperback</td>\n",
       "      <td>2012</td>\n",
       "      <td>Jul</td>\n",
       "    </tr>\n",
       "    <tr>\n",
       "      <th>4</th>\n",
       "      <td>Hansaji J. Yogendra</td>\n",
       "      <td>5.0</td>\n",
       "      <td>11</td>\n",
       "      <td>Language, Linguistics &amp; Writing</td>\n",
       "      <td>204.0</td>\n",
       "      <td>Paperback</td>\n",
       "      <td>2018</td>\n",
       "      <td>Aug</td>\n",
       "    </tr>\n",
       "  </tbody>\n",
       "</table>\n",
       "</div>"
      ],
      "text/plain": [
       "                     Author  Reviews  Ratings  \\\n",
       "0            Kentaro Toyama      5.0        3   \n",
       "1  Chimamanda Ngozi Adichie      4.1       49   \n",
       "2          Joyjeet Banerjee      3.9        4   \n",
       "3             John Eastwood      4.9       14   \n",
       "4       Hansaji J. Yogendra      5.0       11   \n",
       "\n",
       "                          BookCategory   Price       Type  Year Month  \n",
       "0  Computing, Internet & Digital Media   799.0  Hardcover  2015   May  \n",
       "1                              Romance   223.0  Paperback  2014   Jul  \n",
       "2  Computing, Internet & Digital Media  2677.0  Paperback  2018   Aug  \n",
       "3      Language, Linguistics & Writing   675.0  Paperback  2012   Jul  \n",
       "4      Language, Linguistics & Writing   204.0  Paperback  2018   Aug  "
      ]
     },
     "execution_count": 34,
     "metadata": {},
     "output_type": "execute_result"
    }
   ],
   "source": [
    "traindf.head()"
   ]
  },
  {
   "cell_type": "markdown",
   "metadata": {},
   "source": [
    "<hr>"
   ]
  },
  {
   "cell_type": "markdown",
   "metadata": {},
   "source": [
    "# Exploratory Data Analysis"
   ]
  },
  {
   "cell_type": "code",
   "execution_count": 35,
   "metadata": {},
   "outputs": [
    {
     "ename": "TypeError",
     "evalue": "can only concatenate str (not \"NoneType\") to str",
     "output_type": "error",
     "traceback": [
      "\u001b[1;31m---------------------------------------------------------------------------\u001b[0m",
      "\u001b[1;31mTypeError\u001b[0m                                 Traceback (most recent call last)",
      "\u001b[1;32m<ipython-input-35-abb1f1937908>\u001b[0m in \u001b[0;36m<module>\u001b[1;34m\u001b[0m\n\u001b[0;32m      3\u001b[0m \u001b[0msns\u001b[0m\u001b[1;33m.\u001b[0m\u001b[0mdistplot\u001b[0m\u001b[1;33m(\u001b[0m\u001b[0mtraindf\u001b[0m\u001b[1;33m.\u001b[0m\u001b[0mRatings\u001b[0m\u001b[1;33m,\u001b[0m \u001b[0max\u001b[0m\u001b[1;33m=\u001b[0m\u001b[0max\u001b[0m\u001b[1;33m[\u001b[0m\u001b[1;36m0\u001b[0m\u001b[1;33m,\u001b[0m\u001b[1;36m1\u001b[0m\u001b[1;33m]\u001b[0m\u001b[1;33m)\u001b[0m\u001b[1;33m\u001b[0m\u001b[1;33m\u001b[0m\u001b[0m\n\u001b[0;32m      4\u001b[0m \u001b[0msns\u001b[0m\u001b[1;33m.\u001b[0m\u001b[0mdistplot\u001b[0m\u001b[1;33m(\u001b[0m\u001b[0mtraindf\u001b[0m\u001b[1;33m.\u001b[0m\u001b[0mReviews\u001b[0m\u001b[1;33m,\u001b[0m \u001b[0max\u001b[0m\u001b[1;33m=\u001b[0m\u001b[0max\u001b[0m\u001b[1;33m[\u001b[0m\u001b[1;36m1\u001b[0m\u001b[1;33m,\u001b[0m\u001b[1;36m0\u001b[0m\u001b[1;33m]\u001b[0m\u001b[1;33m)\u001b[0m\u001b[1;33m\u001b[0m\u001b[1;33m\u001b[0m\u001b[0m\n\u001b[1;32m----> 5\u001b[1;33m \u001b[0msns\u001b[0m\u001b[1;33m.\u001b[0m\u001b[0mdistplot\u001b[0m\u001b[1;33m(\u001b[0m\u001b[0mtraindf\u001b[0m\u001b[1;33m.\u001b[0m\u001b[0mYear\u001b[0m\u001b[1;33m,\u001b[0m \u001b[0max\u001b[0m\u001b[1;33m=\u001b[0m\u001b[0max\u001b[0m\u001b[1;33m[\u001b[0m\u001b[1;36m1\u001b[0m\u001b[1;33m,\u001b[0m\u001b[1;36m1\u001b[0m\u001b[1;33m]\u001b[0m\u001b[1;33m)\u001b[0m\u001b[1;33m;\u001b[0m\u001b[1;33m\u001b[0m\u001b[1;33m\u001b[0m\u001b[0m\n\u001b[0m",
      "\u001b[1;32mC:\\Applications\\Anaconda3\\lib\\site-packages\\seaborn\\distributions.py\u001b[0m in \u001b[0;36mdistplot\u001b[1;34m(a, bins, hist, kde, rug, fit, hist_kws, kde_kws, rug_kws, fit_kws, color, vertical, norm_hist, axlabel, label, ax)\u001b[0m\n\u001b[0;32m    196\u001b[0m             \u001b[0mline\u001b[0m\u001b[1;33m,\u001b[0m \u001b[1;33m=\u001b[0m \u001b[0max\u001b[0m\u001b[1;33m.\u001b[0m\u001b[0mplot\u001b[0m\u001b[1;33m(\u001b[0m\u001b[1;36m0\u001b[0m\u001b[1;33m,\u001b[0m \u001b[0ma\u001b[0m\u001b[1;33m.\u001b[0m\u001b[0mmean\u001b[0m\u001b[1;33m(\u001b[0m\u001b[1;33m)\u001b[0m\u001b[1;33m)\u001b[0m\u001b[1;33m\u001b[0m\u001b[1;33m\u001b[0m\u001b[0m\n\u001b[0;32m    197\u001b[0m         \u001b[1;32melse\u001b[0m\u001b[1;33m:\u001b[0m\u001b[1;33m\u001b[0m\u001b[1;33m\u001b[0m\u001b[0m\n\u001b[1;32m--> 198\u001b[1;33m             \u001b[0mline\u001b[0m\u001b[1;33m,\u001b[0m \u001b[1;33m=\u001b[0m \u001b[0max\u001b[0m\u001b[1;33m.\u001b[0m\u001b[0mplot\u001b[0m\u001b[1;33m(\u001b[0m\u001b[0ma\u001b[0m\u001b[1;33m.\u001b[0m\u001b[0mmean\u001b[0m\u001b[1;33m(\u001b[0m\u001b[1;33m)\u001b[0m\u001b[1;33m,\u001b[0m \u001b[1;36m0\u001b[0m\u001b[1;33m)\u001b[0m\u001b[1;33m\u001b[0m\u001b[1;33m\u001b[0m\u001b[0m\n\u001b[0m\u001b[0;32m    199\u001b[0m         \u001b[0mcolor\u001b[0m \u001b[1;33m=\u001b[0m \u001b[0mline\u001b[0m\u001b[1;33m.\u001b[0m\u001b[0mget_color\u001b[0m\u001b[1;33m(\u001b[0m\u001b[1;33m)\u001b[0m\u001b[1;33m\u001b[0m\u001b[1;33m\u001b[0m\u001b[0m\n\u001b[0;32m    200\u001b[0m         \u001b[0mline\u001b[0m\u001b[1;33m.\u001b[0m\u001b[0mremove\u001b[0m\u001b[1;33m(\u001b[0m\u001b[1;33m)\u001b[0m\u001b[1;33m\u001b[0m\u001b[1;33m\u001b[0m\u001b[0m\n",
      "\u001b[1;32mC:\\Applications\\Anaconda3\\lib\\site-packages\\numpy\\core\\_methods.py\u001b[0m in \u001b[0;36m_mean\u001b[1;34m(a, axis, dtype, out, keepdims)\u001b[0m\n\u001b[0;32m     73\u001b[0m             \u001b[0mis_float16_result\u001b[0m \u001b[1;33m=\u001b[0m \u001b[1;32mTrue\u001b[0m\u001b[1;33m\u001b[0m\u001b[1;33m\u001b[0m\u001b[0m\n\u001b[0;32m     74\u001b[0m \u001b[1;33m\u001b[0m\u001b[0m\n\u001b[1;32m---> 75\u001b[1;33m     \u001b[0mret\u001b[0m \u001b[1;33m=\u001b[0m \u001b[0mumr_sum\u001b[0m\u001b[1;33m(\u001b[0m\u001b[0marr\u001b[0m\u001b[1;33m,\u001b[0m \u001b[0maxis\u001b[0m\u001b[1;33m,\u001b[0m \u001b[0mdtype\u001b[0m\u001b[1;33m,\u001b[0m \u001b[0mout\u001b[0m\u001b[1;33m,\u001b[0m \u001b[0mkeepdims\u001b[0m\u001b[1;33m)\u001b[0m\u001b[1;33m\u001b[0m\u001b[1;33m\u001b[0m\u001b[0m\n\u001b[0m\u001b[0;32m     76\u001b[0m     \u001b[1;32mif\u001b[0m \u001b[0misinstance\u001b[0m\u001b[1;33m(\u001b[0m\u001b[0mret\u001b[0m\u001b[1;33m,\u001b[0m \u001b[0mmu\u001b[0m\u001b[1;33m.\u001b[0m\u001b[0mndarray\u001b[0m\u001b[1;33m)\u001b[0m\u001b[1;33m:\u001b[0m\u001b[1;33m\u001b[0m\u001b[1;33m\u001b[0m\u001b[0m\n\u001b[0;32m     77\u001b[0m         ret = um.true_divide(\n",
      "\u001b[1;31mTypeError\u001b[0m: can only concatenate str (not \"NoneType\") to str"
     ]
    },
    {
     "data": {
      "image/png": "[encoded data removed]",
      "text/plain": [
       "<Figure size 1080x576 with 4 Axes>"
      ]
     },
     "metadata": {
      "needs_background": "light"
     },
     "output_type": "display_data"
    }
   ],
   "source": [
    "fig,ax = plt.subplots(2,2, figsize=(15,8))\n",
    "sns.distplot(traindf.Price, ax=ax[0,0])\n",
    "sns.distplot(traindf.Ratings, ax=ax[0,1])\n",
    "sns.distplot(traindf.Reviews, ax=ax[1,0])\n",
    "sns.distplot(traindf.Year, ax=ax[1,1]);"
   ]
  },
  {
   "cell_type": "code",
   "execution_count": 36,
   "metadata": {},
   "outputs": [
    {
     "data": {
      "image/png": "[encoded data removed]",
      "text/plain": [
       "<Figure size 2160x720 with 1 Axes>"
      ]
     },
     "metadata": {
      "needs_background": "light"
     },
     "output_type": "display_data"
    }
   ],
   "source": [
    "plt.figure(figsize=(30,10))\n",
    "plt.title(\"Price vs Year\")\n",
    "sns.barplot(y=traindf.Price, x=traindf.Year);"
   ]
  },
  {
   "cell_type": "code",
   "execution_count": 37,
   "metadata": {},
   "outputs": [
    {
     "data": {
      "image/png": "[encoded data removed]",
      "text/plain": [
       "<Figure size 720x576 with 1 Axes>"
      ]
     },
     "metadata": {
      "needs_background": "light"
     },
     "output_type": "display_data"
    }
   ],
   "source": [
    "plt.figure(figsize=(10,8))\n",
    "plt.title(\"Price vs Month\")\n",
    "sns.barplot(y=traindf.Price, x=traindf.Month);"
   ]
  },
  {
   "cell_type": "code",
   "execution_count": 38,
   "metadata": {},
   "outputs": [
    {
     "data": {
      "image/png": "[encoded data removed]",
      "text/plain": [
       "<Figure size 1800x720 with 1 Axes>"
      ]
     },
     "metadata": {
      "needs_background": "light"
     },
     "output_type": "display_data"
    }
   ],
   "source": [
    "plt.figure(figsize=(25,10))\n",
    "plt.title(\"Price vs Type\")\n",
    "sns.barplot(y=traindf.Price, x=traindf.Type);"
   ]
  },
  {
   "cell_type": "code",
   "execution_count": 39,
   "metadata": {},
   "outputs": [
    {
     "data": {
      "image/png": "[encoded data removed]",
      "text/plain": [
       "<Figure size 2160x720 with 1 Axes>"
      ]
     },
     "metadata": {
      "needs_background": "light"
     },
     "output_type": "display_data"
    }
   ],
   "source": [
    "plt.figure(figsize=(30,10))\n",
    "plt.title(\"Price vs BookCategory\")\n",
    "sns.barplot(y=traindf.Price, x=traindf.BookCategory);"
   ]
  },
  {
   "cell_type": "code",
   "execution_count": 40,
   "metadata": {},
   "outputs": [
    {
     "data": {
      "image/png": "[encoded data removed]",
      "text/plain": [
       "<Figure size 2160x720 with 1 Axes>"
      ]
     },
     "metadata": {
      "needs_background": "light"
     },
     "output_type": "display_data"
    }
   ],
   "source": [
    "plt.figure(figsize=(30,10))\n",
    "plt.title(\"Price vs BookCategory\")\n",
    "sns.violinplot(y=traindf.Price, x=traindf.BookCategory);"
   ]
  },
  {
   "cell_type": "code",
   "execution_count": 41,
   "metadata": {},
   "outputs": [
    {
     "data": {
      "image/png": "[encoded data removed]",
      "text/plain": [
       "<Figure size 2160x864 with 1 Axes>"
      ]
     },
     "metadata": {
      "needs_background": "light"
     },
     "output_type": "display_data"
    }
   ],
   "source": [
    "order = traindf['Author'].value_counts().head(100).index\n",
    "\n",
    "plt.figure(figsize=(30,12))\n",
    "plt.title(\"Price vs Author\")\n",
    "sns.barplot(x=traindf.Author, y=traindf.Price, order=order);"
   ]
  },
  {
   "cell_type": "code",
   "execution_count": 42,
   "metadata": {},
   "outputs": [
    {
     "data": {
      "image/png": "[encoded data removed]",
      "text/plain": [
       "<Figure size 720x504 with 2 Axes>"
      ]
     },
     "metadata": {
      "needs_background": "light"
     },
     "output_type": "display_data"
    }
   ],
   "source": [
    "fig, ax =plt.subplots(1,2, figsize=(10,7))\n",
    "sns.scatterplot(traindf.Price, traindf.Ratings, ax=ax[0]);\n",
    "sns.scatterplot(traindf.Price, traindf.Reviews,ax=ax[1]);"
   ]
  },
  {
   "cell_type": "code",
   "execution_count": 43,
   "metadata": {},
   "outputs": [
    {
     "data": {
      "text/html": [
       "<div>\n",
       "<style scoped>\n",
       "    .dataframe tbody tr th:only-of-type {\n",
       "        vertical-align: middle;\n",
       "    }\n",
       "\n",
       "    .dataframe tbody tr th {\n",
       "        vertical-align: top;\n",
       "    }\n",
       "\n",
       "    .dataframe thead th {\n",
       "        text-align: right;\n",
       "    }\n",
       "</style>\n",
       "<table border=\"1\" class=\"dataframe\">\n",
       "  <thead>\n",
       "    <tr style=\"text-align: right;\">\n",
       "      <th></th>\n",
       "      <th>Reviews</th>\n",
       "      <th>Ratings</th>\n",
       "      <th>Price</th>\n",
       "    </tr>\n",
       "  </thead>\n",
       "  <tbody>\n",
       "    <tr>\n",
       "      <th>Reviews</th>\n",
       "      <td>1.000000</td>\n",
       "      <td>0.003408</td>\n",
       "      <td>0.100473</td>\n",
       "    </tr>\n",
       "    <tr>\n",
       "      <th>Ratings</th>\n",
       "      <td>0.003408</td>\n",
       "      <td>1.000000</td>\n",
       "      <td>-0.073585</td>\n",
       "    </tr>\n",
       "    <tr>\n",
       "      <th>Price</th>\n",
       "      <td>0.100473</td>\n",
       "      <td>-0.073585</td>\n",
       "      <td>1.000000</td>\n",
       "    </tr>\n",
       "  </tbody>\n",
       "</table>\n",
       "</div>"
      ],
      "text/plain": [
       "          Reviews   Ratings     Price\n",
       "Reviews  1.000000  0.003408  0.100473\n",
       "Ratings  0.003408  1.000000 -0.073585\n",
       "Price    0.100473 -0.073585  1.000000"
      ]
     },
     "execution_count": 43,
     "metadata": {},
     "output_type": "execute_result"
    }
   ],
   "source": [
    "traindf.corr()"
   ]
  },
  {
   "cell_type": "code",
   "execution_count": 44,
   "metadata": {},
   "outputs": [
    {
     "data": {
      "image/png": "[encoded data removed]",
      "text/plain": [
       "<Figure size 720x504 with 2 Axes>"
      ]
     },
     "metadata": {
      "needs_background": "light"
     },
     "output_type": "display_data"
    }
   ],
   "source": [
    "plt.figure(figsize=(10,7))\n",
    "plt.title(\"Correlation Heatmap\")\n",
    "sns.heatmap(traindf.corr());"
   ]
  },
  {
   "cell_type": "markdown",
   "metadata": {},
   "source": [
    "<br>"
   ]
  },
  {
   "cell_type": "markdown",
   "metadata": {},
   "source": [
    "<b>Inferences so far:</b>\n",
    "\n",
    "1. The `Price` seems to be high in some specific years such as 1900 and 1977 but as visible from the distribution plot, the records for those years are extremely low and hence, do not represent a good average but are just outliers. Therefore, `Year` seems to have little to no effect on the `Price`.\n",
    "2. `Month` does not seem to have an effect on `Price` either. There are highs and lows in separate months but there is no discernible prominent pattern.\n",
    "3. There is a very clear difference in `Price` amongst different `Type`. The `Price` is noticeably higher in `Hardcover`, followed by `Paperback`, then followed by `Mass Market Paperback`.\n",
    "4. The `BookCategory` column tells us that the books in `Computing, Internet & Digital Media` are priced higher compared to other categories, whereas books falling in `Romance` and `Crime, Thriller & Mystery` are the lowest priced. This feature seems to be an important predictor. However, it should be noted that the categories with the lowest average prices also have the highest count.\n",
    "5. The `Author` name seems to have an effect on the price of the book. This can turn out to be a useful feature to predict the `Price.\n",
    "6. The correlation between `Price` and `Ratings` is very weak, almost negligible. But the correlation between `Price` and `Reviews` seems to be slightly stronger."
   ]
  },
  {
   "cell_type": "markdown",
   "metadata": {},
   "source": [
    "<hr>"
   ]
  },
  {
   "cell_type": "markdown",
   "metadata": {},
   "source": [
    "# Encoding"
   ]
  },
  {
   "cell_type": "markdown",
   "metadata": {},
   "source": [
    "<b>Steps performed:</b>\n",
    "\n",
    "1. Created dummies for the `Type` feature.\n",
    "2. Created dummies for the `BookCategory` feature.\n",
    "3. Added the `Reviews` feature to the new dataframe."
   ]
  },
  {
   "cell_type": "code",
   "execution_count": 45,
   "metadata": {},
   "outputs": [
    {
     "data": {
      "text/html": [
       "<div>\n",
       "<style scoped>\n",
       "    .dataframe tbody tr th:only-of-type {\n",
       "        vertical-align: middle;\n",
       "    }\n",
       "\n",
       "    .dataframe tbody tr th {\n",
       "        vertical-align: top;\n",
       "    }\n",
       "\n",
       "    .dataframe thead th {\n",
       "        text-align: right;\n",
       "    }\n",
       "</style>\n",
       "<table border=\"1\" class=\"dataframe\">\n",
       "  <thead>\n",
       "    <tr style=\"text-align: right;\">\n",
       "      <th></th>\n",
       "      <th>Author</th>\n",
       "      <th>Reviews</th>\n",
       "      <th>Ratings</th>\n",
       "      <th>BookCategory</th>\n",
       "      <th>Price</th>\n",
       "      <th>Type</th>\n",
       "      <th>Year</th>\n",
       "      <th>Month</th>\n",
       "    </tr>\n",
       "  </thead>\n",
       "  <tbody>\n",
       "    <tr>\n",
       "      <th>0</th>\n",
       "      <td>Kentaro Toyama</td>\n",
       "      <td>5.0</td>\n",
       "      <td>3</td>\n",
       "      <td>Computing, Internet &amp; Digital Media</td>\n",
       "      <td>799.0</td>\n",
       "      <td>Hardcover</td>\n",
       "      <td>2015</td>\n",
       "      <td>May</td>\n",
       "    </tr>\n",
       "    <tr>\n",
       "      <th>1</th>\n",
       "      <td>Chimamanda Ngozi Adichie</td>\n",
       "      <td>4.1</td>\n",
       "      <td>49</td>\n",
       "      <td>Romance</td>\n",
       "      <td>223.0</td>\n",
       "      <td>Paperback</td>\n",
       "      <td>2014</td>\n",
       "      <td>Jul</td>\n",
       "    </tr>\n",
       "    <tr>\n",
       "      <th>2</th>\n",
       "      <td>Joyjeet Banerjee</td>\n",
       "      <td>3.9</td>\n",
       "      <td>4</td>\n",
       "      <td>Computing, Internet &amp; Digital Media</td>\n",
       "      <td>2677.0</td>\n",
       "      <td>Paperback</td>\n",
       "      <td>2018</td>\n",
       "      <td>Aug</td>\n",
       "    </tr>\n",
       "    <tr>\n",
       "      <th>3</th>\n",
       "      <td>John Eastwood</td>\n",
       "      <td>4.9</td>\n",
       "      <td>14</td>\n",
       "      <td>Language, Linguistics &amp; Writing</td>\n",
       "      <td>675.0</td>\n",
       "      <td>Paperback</td>\n",
       "      <td>2012</td>\n",
       "      <td>Jul</td>\n",
       "    </tr>\n",
       "    <tr>\n",
       "      <th>4</th>\n",
       "      <td>Hansaji J. Yogendra</td>\n",
       "      <td>5.0</td>\n",
       "      <td>11</td>\n",
       "      <td>Language, Linguistics &amp; Writing</td>\n",
       "      <td>204.0</td>\n",
       "      <td>Paperback</td>\n",
       "      <td>2018</td>\n",
       "      <td>Aug</td>\n",
       "    </tr>\n",
       "  </tbody>\n",
       "</table>\n",
       "</div>"
      ],
      "text/plain": [
       "                     Author  Reviews  Ratings  \\\n",
       "0            Kentaro Toyama      5.0        3   \n",
       "1  Chimamanda Ngozi Adichie      4.1       49   \n",
       "2          Joyjeet Banerjee      3.9        4   \n",
       "3             John Eastwood      4.9       14   \n",
       "4       Hansaji J. Yogendra      5.0       11   \n",
       "\n",
       "                          BookCategory   Price       Type  Year Month  \n",
       "0  Computing, Internet & Digital Media   799.0  Hardcover  2015   May  \n",
       "1                              Romance   223.0  Paperback  2014   Jul  \n",
       "2  Computing, Internet & Digital Media  2677.0  Paperback  2018   Aug  \n",
       "3      Language, Linguistics & Writing   675.0  Paperback  2012   Jul  \n",
       "4      Language, Linguistics & Writing   204.0  Paperback  2018   Aug  "
      ]
     },
     "execution_count": 45,
     "metadata": {},
     "output_type": "execute_result"
    }
   ],
   "source": [
    "traindf.head()"
   ]
  },
  {
   "cell_type": "code",
   "execution_count": 46,
   "metadata": {},
   "outputs": [],
   "source": [
    "#One-hot-encoding the `Type`, and `BookCategory` features\n",
    "\n",
    "train_newdf = pd.get_dummies(traindf[['Type','BookCategory']])\n",
    "test_newdf = pd.get_dummies(testdf[['Type','BookCategory']])"
   ]
  },
  {
   "cell_type": "code",
   "execution_count": 47,
   "metadata": {},
   "outputs": [],
   "source": [
    "train_newdf['Reviews'] = traindf['Reviews']\n",
    "test_newdf['Reviews'] = testdf['Reviews']"
   ]
  },
  {
   "cell_type": "code",
   "execution_count": 48,
   "metadata": {},
   "outputs": [
    {
     "data": {
      "text/html": [
       "<div>\n",
       "<style scoped>\n",
       "    .dataframe tbody tr th:only-of-type {\n",
       "        vertical-align: middle;\n",
       "    }\n",
       "\n",
       "    .dataframe tbody tr th {\n",
       "        vertical-align: top;\n",
       "    }\n",
       "\n",
       "    .dataframe thead th {\n",
       "        text-align: right;\n",
       "    }\n",
       "</style>\n",
       "<table border=\"1\" class=\"dataframe\">\n",
       "  <thead>\n",
       "    <tr style=\"text-align: right;\">\n",
       "      <th></th>\n",
       "      <th>Type_(French),Paperback</th>\n",
       "      <th>Type_(German),Paperback</th>\n",
       "      <th>Type_(Kannada),Paperback</th>\n",
       "      <th>Type_(Spanish),Paperback</th>\n",
       "      <th>Type_Cards</th>\n",
       "      <th>Type_Flexibound</th>\n",
       "      <th>Type_Hardcover</th>\n",
       "      <th>Type_Leather Bound</th>\n",
       "      <th>Type_Library Binding</th>\n",
       "      <th>Type_Loose Leaf</th>\n",
       "      <th>...</th>\n",
       "      <th>BookCategory_Biographies, Diaries &amp; True Accounts</th>\n",
       "      <th>BookCategory_Comics &amp; Mangas</th>\n",
       "      <th>BookCategory_Computing, Internet &amp; Digital Media</th>\n",
       "      <th>BookCategory_Crime, Thriller &amp; Mystery</th>\n",
       "      <th>BookCategory_Humour</th>\n",
       "      <th>BookCategory_Language, Linguistics &amp; Writing</th>\n",
       "      <th>BookCategory_Politics</th>\n",
       "      <th>BookCategory_Romance</th>\n",
       "      <th>BookCategory_Sports</th>\n",
       "      <th>Reviews</th>\n",
       "    </tr>\n",
       "  </thead>\n",
       "  <tbody>\n",
       "    <tr>\n",
       "      <th>0</th>\n",
       "      <td>0</td>\n",
       "      <td>0</td>\n",
       "      <td>0</td>\n",
       "      <td>0</td>\n",
       "      <td>0</td>\n",
       "      <td>0</td>\n",
       "      <td>1</td>\n",
       "      <td>0</td>\n",
       "      <td>0</td>\n",
       "      <td>0</td>\n",
       "      <td>...</td>\n",
       "      <td>0</td>\n",
       "      <td>0</td>\n",
       "      <td>1</td>\n",
       "      <td>0</td>\n",
       "      <td>0</td>\n",
       "      <td>0</td>\n",
       "      <td>0</td>\n",
       "      <td>0</td>\n",
       "      <td>0</td>\n",
       "      <td>5.0</td>\n",
       "    </tr>\n",
       "    <tr>\n",
       "      <th>1</th>\n",
       "      <td>0</td>\n",
       "      <td>0</td>\n",
       "      <td>0</td>\n",
       "      <td>0</td>\n",
       "      <td>0</td>\n",
       "      <td>0</td>\n",
       "      <td>0</td>\n",
       "      <td>0</td>\n",
       "      <td>0</td>\n",
       "      <td>0</td>\n",
       "      <td>...</td>\n",
       "      <td>0</td>\n",
       "      <td>0</td>\n",
       "      <td>0</td>\n",
       "      <td>0</td>\n",
       "      <td>0</td>\n",
       "      <td>0</td>\n",
       "      <td>0</td>\n",
       "      <td>1</td>\n",
       "      <td>0</td>\n",
       "      <td>4.1</td>\n",
       "    </tr>\n",
       "    <tr>\n",
       "      <th>2</th>\n",
       "      <td>0</td>\n",
       "      <td>0</td>\n",
       "      <td>0</td>\n",
       "      <td>0</td>\n",
       "      <td>0</td>\n",
       "      <td>0</td>\n",
       "      <td>0</td>\n",
       "      <td>0</td>\n",
       "      <td>0</td>\n",
       "      <td>0</td>\n",
       "      <td>...</td>\n",
       "      <td>0</td>\n",
       "      <td>0</td>\n",
       "      <td>1</td>\n",
       "      <td>0</td>\n",
       "      <td>0</td>\n",
       "      <td>0</td>\n",
       "      <td>0</td>\n",
       "      <td>0</td>\n",
       "      <td>0</td>\n",
       "      <td>3.9</td>\n",
       "    </tr>\n",
       "    <tr>\n",
       "      <th>3</th>\n",
       "      <td>0</td>\n",
       "      <td>0</td>\n",
       "      <td>0</td>\n",
       "      <td>0</td>\n",
       "      <td>0</td>\n",
       "      <td>0</td>\n",
       "      <td>0</td>\n",
       "      <td>0</td>\n",
       "      <td>0</td>\n",
       "      <td>0</td>\n",
       "      <td>...</td>\n",
       "      <td>0</td>\n",
       "      <td>0</td>\n",
       "      <td>0</td>\n",
       "      <td>0</td>\n",
       "      <td>0</td>\n",
       "      <td>1</td>\n",
       "      <td>0</td>\n",
       "      <td>0</td>\n",
       "      <td>0</td>\n",
       "      <td>4.9</td>\n",
       "    </tr>\n",
       "    <tr>\n",
       "      <th>4</th>\n",
       "      <td>0</td>\n",
       "      <td>0</td>\n",
       "      <td>0</td>\n",
       "      <td>0</td>\n",
       "      <td>0</td>\n",
       "      <td>0</td>\n",
       "      <td>0</td>\n",
       "      <td>0</td>\n",
       "      <td>0</td>\n",
       "      <td>0</td>\n",
       "      <td>...</td>\n",
       "      <td>0</td>\n",
       "      <td>0</td>\n",
       "      <td>0</td>\n",
       "      <td>0</td>\n",
       "      <td>0</td>\n",
       "      <td>1</td>\n",
       "      <td>0</td>\n",
       "      <td>0</td>\n",
       "      <td>0</td>\n",
       "      <td>5.0</td>\n",
       "    </tr>\n",
       "  </tbody>\n",
       "</table>\n",
       "<p>5 rows × 28 columns</p>\n",
       "</div>"
      ],
      "text/plain": [
       "   Type_(French),Paperback  Type_(German),Paperback  Type_(Kannada),Paperback  \\\n",
       "0                        0                        0                         0   \n",
       "1                        0                        0                         0   \n",
       "2                        0                        0                         0   \n",
       "3                        0                        0                         0   \n",
       "4                        0                        0                         0   \n",
       "\n",
       "   Type_(Spanish),Paperback  Type_Cards  Type_Flexibound  Type_Hardcover  \\\n",
       "0                         0           0                0               1   \n",
       "1                         0           0                0               0   \n",
       "2                         0           0                0               0   \n",
       "3                         0           0                0               0   \n",
       "4                         0           0                0               0   \n",
       "\n",
       "   Type_Leather Bound  Type_Library Binding  Type_Loose Leaf  ...  \\\n",
       "0                   0                     0                0  ...   \n",
       "1                   0                     0                0  ...   \n",
       "2                   0                     0                0  ...   \n",
       "3                   0                     0                0  ...   \n",
       "4                   0                     0                0  ...   \n",
       "\n",
       "   BookCategory_Biographies, Diaries & True Accounts  \\\n",
       "0                                                  0   \n",
       "1                                                  0   \n",
       "2                                                  0   \n",
       "3                                                  0   \n",
       "4                                                  0   \n",
       "\n",
       "   BookCategory_Comics & Mangas  \\\n",
       "0                             0   \n",
       "1                             0   \n",
       "2                             0   \n",
       "3                             0   \n",
       "4                             0   \n",
       "\n",
       "   BookCategory_Computing, Internet & Digital Media  \\\n",
       "0                                                 1   \n",
       "1                                                 0   \n",
       "2                                                 1   \n",
       "3                                                 0   \n",
       "4                                                 0   \n",
       "\n",
       "   BookCategory_Crime, Thriller & Mystery  BookCategory_Humour  \\\n",
       "0                                       0                    0   \n",
       "1                                       0                    0   \n",
       "2                                       0                    0   \n",
       "3                                       0                    0   \n",
       "4                                       0                    0   \n",
       "\n",
       "   BookCategory_Language, Linguistics & Writing  BookCategory_Politics  \\\n",
       "0                                             0                      0   \n",
       "1                                             0                      0   \n",
       "2                                             0                      0   \n",
       "3                                             1                      0   \n",
       "4                                             1                      0   \n",
       "\n",
       "   BookCategory_Romance  BookCategory_Sports  Reviews  \n",
       "0                     0                    0      5.0  \n",
       "1                     1                    0      4.1  \n",
       "2                     0                    0      3.9  \n",
       "3                     0                    0      4.9  \n",
       "4                     0                    0      5.0  \n",
       "\n",
       "[5 rows x 28 columns]"
      ]
     },
     "execution_count": 48,
     "metadata": {},
     "output_type": "execute_result"
    }
   ],
   "source": [
    "train_newdf.head()"
   ]
  },
  {
   "cell_type": "code",
   "execution_count": 49,
   "metadata": {},
   "outputs": [
    {
     "data": {
      "text/html": [
       "<div>\n",
       "<style scoped>\n",
       "    .dataframe tbody tr th:only-of-type {\n",
       "        vertical-align: middle;\n",
       "    }\n",
       "\n",
       "    .dataframe tbody tr th {\n",
       "        vertical-align: top;\n",
       "    }\n",
       "\n",
       "    .dataframe thead th {\n",
       "        text-align: right;\n",
       "    }\n",
       "</style>\n",
       "<table border=\"1\" class=\"dataframe\">\n",
       "  <thead>\n",
       "    <tr style=\"text-align: right;\">\n",
       "      <th></th>\n",
       "      <th>Type_Board book</th>\n",
       "      <th>Type_Cards</th>\n",
       "      <th>Type_Flexibound</th>\n",
       "      <th>Type_Hardcover</th>\n",
       "      <th>Type_Mass Market Paperback</th>\n",
       "      <th>Type_Paperback</th>\n",
       "      <th>Type_Perfect Paperback</th>\n",
       "      <th>Type_Plastic Comb</th>\n",
       "      <th>Type_Sheet music</th>\n",
       "      <th>Type_Spiral-bound</th>\n",
       "      <th>...</th>\n",
       "      <th>BookCategory_Biographies, Diaries &amp; True Accounts</th>\n",
       "      <th>BookCategory_Comics &amp; Mangas</th>\n",
       "      <th>BookCategory_Computing, Internet &amp; Digital Media</th>\n",
       "      <th>BookCategory_Crime, Thriller &amp; Mystery</th>\n",
       "      <th>BookCategory_Humour</th>\n",
       "      <th>BookCategory_Language, Linguistics &amp; Writing</th>\n",
       "      <th>BookCategory_Politics</th>\n",
       "      <th>BookCategory_Romance</th>\n",
       "      <th>BookCategory_Sports</th>\n",
       "      <th>Reviews</th>\n",
       "    </tr>\n",
       "  </thead>\n",
       "  <tbody>\n",
       "    <tr>\n",
       "      <th>0</th>\n",
       "      <td>0</td>\n",
       "      <td>0</td>\n",
       "      <td>0</td>\n",
       "      <td>0</td>\n",
       "      <td>0</td>\n",
       "      <td>1</td>\n",
       "      <td>0</td>\n",
       "      <td>0</td>\n",
       "      <td>0</td>\n",
       "      <td>0</td>\n",
       "      <td>...</td>\n",
       "      <td>0</td>\n",
       "      <td>0</td>\n",
       "      <td>0</td>\n",
       "      <td>0</td>\n",
       "      <td>1</td>\n",
       "      <td>0</td>\n",
       "      <td>0</td>\n",
       "      <td>0</td>\n",
       "      <td>0</td>\n",
       "      <td>4.7</td>\n",
       "    </tr>\n",
       "    <tr>\n",
       "      <th>1</th>\n",
       "      <td>0</td>\n",
       "      <td>0</td>\n",
       "      <td>0</td>\n",
       "      <td>0</td>\n",
       "      <td>0</td>\n",
       "      <td>1</td>\n",
       "      <td>0</td>\n",
       "      <td>0</td>\n",
       "      <td>0</td>\n",
       "      <td>0</td>\n",
       "      <td>...</td>\n",
       "      <td>0</td>\n",
       "      <td>0</td>\n",
       "      <td>0</td>\n",
       "      <td>0</td>\n",
       "      <td>0</td>\n",
       "      <td>0</td>\n",
       "      <td>0</td>\n",
       "      <td>0</td>\n",
       "      <td>0</td>\n",
       "      <td>4.5</td>\n",
       "    </tr>\n",
       "    <tr>\n",
       "      <th>2</th>\n",
       "      <td>0</td>\n",
       "      <td>0</td>\n",
       "      <td>0</td>\n",
       "      <td>0</td>\n",
       "      <td>0</td>\n",
       "      <td>1</td>\n",
       "      <td>0</td>\n",
       "      <td>0</td>\n",
       "      <td>0</td>\n",
       "      <td>0</td>\n",
       "      <td>...</td>\n",
       "      <td>0</td>\n",
       "      <td>0</td>\n",
       "      <td>0</td>\n",
       "      <td>0</td>\n",
       "      <td>0</td>\n",
       "      <td>0</td>\n",
       "      <td>1</td>\n",
       "      <td>0</td>\n",
       "      <td>0</td>\n",
       "      <td>4.1</td>\n",
       "    </tr>\n",
       "    <tr>\n",
       "      <th>3</th>\n",
       "      <td>0</td>\n",
       "      <td>0</td>\n",
       "      <td>0</td>\n",
       "      <td>0</td>\n",
       "      <td>0</td>\n",
       "      <td>1</td>\n",
       "      <td>0</td>\n",
       "      <td>0</td>\n",
       "      <td>0</td>\n",
       "      <td>0</td>\n",
       "      <td>...</td>\n",
       "      <td>0</td>\n",
       "      <td>0</td>\n",
       "      <td>0</td>\n",
       "      <td>1</td>\n",
       "      <td>0</td>\n",
       "      <td>0</td>\n",
       "      <td>0</td>\n",
       "      <td>0</td>\n",
       "      <td>0</td>\n",
       "      <td>4.1</td>\n",
       "    </tr>\n",
       "    <tr>\n",
       "      <th>4</th>\n",
       "      <td>0</td>\n",
       "      <td>0</td>\n",
       "      <td>0</td>\n",
       "      <td>0</td>\n",
       "      <td>1</td>\n",
       "      <td>0</td>\n",
       "      <td>0</td>\n",
       "      <td>0</td>\n",
       "      <td>0</td>\n",
       "      <td>0</td>\n",
       "      <td>...</td>\n",
       "      <td>0</td>\n",
       "      <td>0</td>\n",
       "      <td>0</td>\n",
       "      <td>1</td>\n",
       "      <td>0</td>\n",
       "      <td>0</td>\n",
       "      <td>0</td>\n",
       "      <td>0</td>\n",
       "      <td>0</td>\n",
       "      <td>3.0</td>\n",
       "    </tr>\n",
       "  </tbody>\n",
       "</table>\n",
       "<p>5 rows × 22 columns</p>\n",
       "</div>"
      ],
      "text/plain": [
       "   Type_Board book  Type_Cards  Type_Flexibound  Type_Hardcover  \\\n",
       "0                0           0                0               0   \n",
       "1                0           0                0               0   \n",
       "2                0           0                0               0   \n",
       "3                0           0                0               0   \n",
       "4                0           0                0               0   \n",
       "\n",
       "   Type_Mass Market Paperback  Type_Paperback  Type_Perfect Paperback  \\\n",
       "0                           0               1                       0   \n",
       "1                           0               1                       0   \n",
       "2                           0               1                       0   \n",
       "3                           0               1                       0   \n",
       "4                           1               0                       0   \n",
       "\n",
       "   Type_Plastic Comb  Type_Sheet music  Type_Spiral-bound  ...  \\\n",
       "0                  0                 0                  0  ...   \n",
       "1                  0                 0                  0  ...   \n",
       "2                  0                 0                  0  ...   \n",
       "3                  0                 0                  0  ...   \n",
       "4                  0                 0                  0  ...   \n",
       "\n",
       "   BookCategory_Biographies, Diaries & True Accounts  \\\n",
       "0                                                  0   \n",
       "1                                                  0   \n",
       "2                                                  0   \n",
       "3                                                  0   \n",
       "4                                                  0   \n",
       "\n",
       "   BookCategory_Comics & Mangas  \\\n",
       "0                             0   \n",
       "1                             0   \n",
       "2                             0   \n",
       "3                             0   \n",
       "4                             0   \n",
       "\n",
       "   BookCategory_Computing, Internet & Digital Media  \\\n",
       "0                                                 0   \n",
       "1                                                 0   \n",
       "2                                                 0   \n",
       "3                                                 0   \n",
       "4                                                 0   \n",
       "\n",
       "   BookCategory_Crime, Thriller & Mystery  BookCategory_Humour  \\\n",
       "0                                       0                    1   \n",
       "1                                       0                    0   \n",
       "2                                       0                    0   \n",
       "3                                       1                    0   \n",
       "4                                       1                    0   \n",
       "\n",
       "   BookCategory_Language, Linguistics & Writing  BookCategory_Politics  \\\n",
       "0                                             0                      0   \n",
       "1                                             0                      0   \n",
       "2                                             0                      1   \n",
       "3                                             0                      0   \n",
       "4                                             0                      0   \n",
       "\n",
       "   BookCategory_Romance  BookCategory_Sports  Reviews  \n",
       "0                     0                    0      4.7  \n",
       "1                     0                    0      4.5  \n",
       "2                     0                    0      4.1  \n",
       "3                     0                    0      4.1  \n",
       "4                     0                    0      3.0  \n",
       "\n",
       "[5 rows x 22 columns]"
      ]
     },
     "execution_count": 49,
     "metadata": {},
     "output_type": "execute_result"
    }
   ],
   "source": [
    "test_newdf.head()"
   ]
  },
  {
   "cell_type": "code",
   "execution_count": 74,
   "metadata": {},
   "outputs": [
    {
     "data": {
      "text/plain": [
       "Index(['Type_Cards', 'Type_Flexibound', 'Type_Hardcover',\n",
       "       'Type_Mass Market Paperback', 'Type_Paperback', 'Type_Sheet music',\n",
       "       'Type_Spiral-bound', 'Type_Tankobon Softcover',\n",
       "       'BookCategory_Action & Adventure',\n",
       "       'BookCategory_Arts, Film & Photography',\n",
       "       'BookCategory_Biographies, Diaries & True Accounts',\n",
       "       'BookCategory_Comics & Mangas',\n",
       "       'BookCategory_Computing, Internet & Digital Media',\n",
       "       'BookCategory_Crime, Thriller & Mystery', 'BookCategory_Humour',\n",
       "       'BookCategory_Language, Linguistics & Writing', 'BookCategory_Politics',\n",
       "       'BookCategory_Romance', 'BookCategory_Sports', 'Reviews'],\n",
       "      dtype='object')"
      ]
     },
     "execution_count": 74,
     "metadata": {},
     "output_type": "execute_result"
    }
   ],
   "source": [
    "train_newdf.columns"
   ]
  },
  {
   "cell_type": "code",
   "execution_count": 75,
   "metadata": {},
   "outputs": [
    {
     "data": {
      "text/plain": [
       "Index(['Type_Cards', 'Type_Flexibound', 'Type_Hardcover',\n",
       "       'Type_Mass Market Paperback', 'Type_Paperback', 'Type_Sheet music',\n",
       "       'Type_Spiral-bound', 'BookCategory_Action & Adventure',\n",
       "       'BookCategory_Arts, Film & Photography',\n",
       "       'BookCategory_Biographies, Diaries & True Accounts',\n",
       "       'BookCategory_Comics & Mangas',\n",
       "       'BookCategory_Computing, Internet & Digital Media',\n",
       "       'BookCategory_Crime, Thriller & Mystery', 'BookCategory_Humour',\n",
       "       'BookCategory_Language, Linguistics & Writing', 'BookCategory_Politics',\n",
       "       'BookCategory_Romance', 'BookCategory_Sports', 'Reviews'],\n",
       "      dtype='object')"
      ]
     },
     "execution_count": 75,
     "metadata": {},
     "output_type": "execute_result"
    }
   ],
   "source": [
    "test_newdf.columns"
   ]
  },
  {
   "cell_type": "code",
   "execution_count": 63,
   "metadata": {
    "scrolled": true
   },
   "outputs": [],
   "source": [
    "train_newdf.drop(['Type_Product Bundle','Type_(French),Paperback', 'Type_(German),Paperback','Type_(Kannada),Paperback', 'Type_(Spanish),Paperback','Type_Leather Bound','Type_Library Binding', 'Type_Loose Leaf'], axis=1, inplace=True)"
   ]
  },
  {
   "cell_type": "code",
   "execution_count": 76,
   "metadata": {},
   "outputs": [],
   "source": [
    "train_newdf.drop('Type_Tankobon Softcover', axis=1, inplace=True)"
   ]
  },
  {
   "cell_type": "code",
   "execution_count": 64,
   "metadata": {
    "scrolled": true
   },
   "outputs": [],
   "source": [
    "test_newdf.drop(['Type_Plastic Comb','Type_Perfect Paperback','Type_Board book'], axis=1, inplace=True)"
   ]
  },
  {
   "cell_type": "code",
   "execution_count": 77,
   "metadata": {},
   "outputs": [
    {
     "data": {
      "text/plain": [
       "(4989, 19)"
      ]
     },
     "execution_count": 77,
     "metadata": {},
     "output_type": "execute_result"
    }
   ],
   "source": [
    "train_newdf.shape"
   ]
  },
  {
   "cell_type": "code",
   "execution_count": 78,
   "metadata": {},
   "outputs": [
    {
     "data": {
      "text/plain": [
       "(1248, 19)"
      ]
     },
     "execution_count": 78,
     "metadata": {},
     "output_type": "execute_result"
    }
   ],
   "source": [
    "test_newdf.shape"
   ]
  },
  {
   "cell_type": "markdown",
   "metadata": {},
   "source": [
    "<hr>"
   ]
  },
  {
   "cell_type": "markdown",
   "metadata": {},
   "source": [
    "# Model building"
   ]
  },
  {
   "cell_type": "code",
   "execution_count": 79,
   "metadata": {},
   "outputs": [],
   "source": [
    "X_train = train_newdf\n",
    "y_train = traindf['Price']\n",
    "X_test = test_newdf"
   ]
  },
  {
   "cell_type": "code",
   "execution_count": 80,
   "metadata": {},
   "outputs": [
    {
     "data": {
      "text/plain": [
       "LinearRegression(copy_X=True, fit_intercept=True, n_jobs=-1, normalize=False)"
      ]
     },
     "execution_count": 80,
     "metadata": {},
     "output_type": "execute_result"
    }
   ],
   "source": [
    "reg = LinearRegression(n_jobs=-1)\n",
    "reg.fit(X_train,y_train)"
   ]
  },
  {
   "cell_type": "code",
   "execution_count": 81,
   "metadata": {},
   "outputs": [
    {
     "data": {
      "text/plain": [
       "(array([-8.62932403e+02, -1.02365292e+03, -7.49568261e+02, -1.25108950e+03,\n",
       "        -1.19522388e+03, -1.11682290e+03, -6.38188524e+02,  6.04738771e+15,\n",
       "         6.04738771e+15,  6.04738771e+15,  6.04738771e+15,  6.04738771e+15,\n",
       "         6.04738771e+15,  6.04738771e+15,  6.04738771e+15,  6.04738771e+15,\n",
       "         6.04738771e+15,  6.04738771e+15,  7.68608465e+01]),\n",
       " -6047387708026689.0)"
      ]
     },
     "execution_count": 81,
     "metadata": {},
     "output_type": "execute_result"
    }
   ],
   "source": [
    "reg.coef_, reg.intercept_"
   ]
  },
  {
   "cell_type": "code",
   "execution_count": 82,
   "metadata": {},
   "outputs": [],
   "source": [
    "y_train_pred = reg.predict(X_train)"
   ]
  },
  {
   "cell_type": "code",
   "execution_count": 83,
   "metadata": {},
   "outputs": [
    {
     "data": {
      "text/plain": [
       "0.13833795836710394"
      ]
     },
     "execution_count": 83,
     "metadata": {},
     "output_type": "execute_result"
    }
   ],
   "source": [
    "r2_score(y_train,y_train_pred)"
   ]
  },
  {
   "cell_type": "code",
   "execution_count": 84,
   "metadata": {},
   "outputs": [
    {
     "data": {
      "text/plain": [
       "442636.27268226095"
      ]
     },
     "execution_count": 84,
     "metadata": {},
     "output_type": "execute_result"
    }
   ],
   "source": [
    "mean_squared_error(y_train, y_train_pred)"
   ]
  },
  {
   "cell_type": "code",
   "execution_count": 85,
   "metadata": {},
   "outputs": [],
   "source": [
    "y_test_pred = reg.predict(X_test)"
   ]
  },
  {
   "cell_type": "markdown",
   "metadata": {},
   "source": [
    "### Conclusion:\n",
    "\n",
    "1. The r2_score is 0.14 which indicates that `BookCategory`, `Type` and `Reviews` of the book are not very good indicators of its `Price`.\n",
    "2. Perhaps the `Price` can be better predicted if there was publisher name involved in the data, or by using the `Author` column in a different model."
   ]
  },
  {
   "cell_type": "markdown",
   "metadata": {},
   "source": [
    "<br>"
   ]
  },
  {
   "cell_type": "markdown",
   "metadata": {},
   "source": [
    "#### Saving to CSV format"
   ]
  },
  {
   "cell_type": "code",
   "execution_count": 86,
   "metadata": {
    "scrolled": true
   },
   "outputs": [],
   "source": [
    "(pd.DataFrame(y_test_pred)).to_csv(\"bookpriceprediction.csv\", index=False)"
   ]
  },
  {
   "cell_type": "code",
   "execution_count": null,
   "metadata": {},
   "outputs": [],
   "source": []
  }
 ],
 "metadata": {
  "kernelspec": {
   "display_name": "Python 3",
   "language": "python",
   "name": "python3"
  },
  "language_info": {
   "codemirror_mode": {
    "name": "ipython",
    "version": 3
   },
   "file_extension": ".py",
   "mimetype": "text/x-python",
   "name": "python",
   "nbconvert_exporter": "python",
   "pygments_lexer": "ipython3",
   "version": "3.7.3"
  }
 },
 "nbformat": 4,
 "nbformat_minor": 2
}
