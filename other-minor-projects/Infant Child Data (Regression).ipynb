{
 "cells": [
  {
   "cell_type": "code",
   "execution_count": 1,
   "metadata": {},
   "outputs": [],
   "source": [
    "import pandas as pd\n",
    "import numpy as np\n",
    "import matplotlib.pyplot as plt\n",
    "import seaborn as sns\n",
    "np.random.seed(0)\n",
    "from scipy import stats"
   ]
  },
  {
   "cell_type": "code",
   "execution_count": 2,
   "metadata": {},
   "outputs": [],
   "source": [
    "df = pd.read_excel(\"Infant Child Data.xlsx\",sheet_name=\"childbirth\")"
   ]
  },
  {
   "cell_type": "code",
   "execution_count": 3,
   "metadata": {},
   "outputs": [
    {
     "data": {
      "text/html": [
       "<div>\n",
       "<style scoped>\n",
       "    .dataframe tbody tr th:only-of-type {\n",
       "        vertical-align: middle;\n",
       "    }\n",
       "\n",
       "    .dataframe tbody tr th {\n",
       "        vertical-align: top;\n",
       "    }\n",
       "\n",
       "    .dataframe thead th {\n",
       "        text-align: right;\n",
       "    }\n",
       "</style>\n",
       "<table border=\"1\" class=\"dataframe\">\n",
       "  <thead>\n",
       "    <tr style=\"text-align: right;\">\n",
       "      <th></th>\n",
       "      <th>BabyId</th>\n",
       "      <th>FirsttimeParent</th>\n",
       "      <th>Crying date</th>\n",
       "      <th>Crying time</th>\n",
       "      <th>Crying seconds</th>\n",
       "      <th>Feeding date</th>\n",
       "      <th>Feeding time</th>\n",
       "      <th>Bottle amount</th>\n",
       "      <th>PumpingDate</th>\n",
       "      <th>PumpingTimePumpingLeftPumpingRight</th>\n",
       "      <th>Pumping Left</th>\n",
       "      <th>PumpingRight</th>\n",
       "      <th>SleepingDate</th>\n",
       "      <th>SleepingTime</th>\n",
       "      <th>SleepingSecond</th>\n",
       "    </tr>\n",
       "  </thead>\n",
       "  <tbody>\n",
       "    <tr>\n",
       "      <th>0</th>\n",
       "      <td>HPT2_NR_16</td>\n",
       "      <td>1</td>\n",
       "      <td>2015-08-05</td>\n",
       "      <td>20:31:47</td>\n",
       "      <td>900.0</td>\n",
       "      <td>2015-08-05</td>\n",
       "      <td>20:31:47</td>\n",
       "      <td>180.0</td>\n",
       "      <td>2015-08-05</td>\n",
       "      <td>20:31:47</td>\n",
       "      <td>40.0</td>\n",
       "      <td>30.0</td>\n",
       "      <td>2015-08-05</td>\n",
       "      <td>20:31:47</td>\n",
       "      <td>5153.979</td>\n",
       "    </tr>\n",
       "    <tr>\n",
       "      <th>1</th>\n",
       "      <td>HPT2_NR_16</td>\n",
       "      <td>1</td>\n",
       "      <td>2015-08-05</td>\n",
       "      <td>23:33:46</td>\n",
       "      <td>600.0</td>\n",
       "      <td>2015-08-05</td>\n",
       "      <td>23:33:46</td>\n",
       "      <td>180.0</td>\n",
       "      <td>2015-08-05</td>\n",
       "      <td>23:33:46</td>\n",
       "      <td>50.0</td>\n",
       "      <td>35.0</td>\n",
       "      <td>2015-08-05</td>\n",
       "      <td>23:33:46</td>\n",
       "      <td>33365.110</td>\n",
       "    </tr>\n",
       "    <tr>\n",
       "      <th>2</th>\n",
       "      <td>HPT2_NR_16</td>\n",
       "      <td>1</td>\n",
       "      <td>2015-08-06</td>\n",
       "      <td>10:20:00</td>\n",
       "      <td>916.0</td>\n",
       "      <td>2015-08-06</td>\n",
       "      <td>10:20:00</td>\n",
       "      <td>180.0</td>\n",
       "      <td>2015-08-06</td>\n",
       "      <td>10:20:00</td>\n",
       "      <td>NaN</td>\n",
       "      <td>NaN</td>\n",
       "      <td>2015-08-06</td>\n",
       "      <td>10:20:00</td>\n",
       "      <td>2100.000</td>\n",
       "    </tr>\n",
       "    <tr>\n",
       "      <th>3</th>\n",
       "      <td>HPT2_NR_16</td>\n",
       "      <td>1</td>\n",
       "      <td>2015-08-06</td>\n",
       "      <td>11:30:00</td>\n",
       "      <td>300.0</td>\n",
       "      <td>2015-08-06</td>\n",
       "      <td>11:30:00</td>\n",
       "      <td>35.0</td>\n",
       "      <td>2015-08-06</td>\n",
       "      <td>11:30:00</td>\n",
       "      <td>NaN</td>\n",
       "      <td>NaN</td>\n",
       "      <td>2015-08-06</td>\n",
       "      <td>11:30:00</td>\n",
       "      <td>1200.000</td>\n",
       "    </tr>\n",
       "    <tr>\n",
       "      <th>4</th>\n",
       "      <td>HPT2_NR_16</td>\n",
       "      <td>1</td>\n",
       "      <td>2015-08-06</td>\n",
       "      <td>12:15:00</td>\n",
       "      <td>600.0</td>\n",
       "      <td>2015-08-06</td>\n",
       "      <td>12:15:00</td>\n",
       "      <td>180.0</td>\n",
       "      <td>2015-08-06</td>\n",
       "      <td>12:15:00</td>\n",
       "      <td>NaN</td>\n",
       "      <td>NaN</td>\n",
       "      <td>2015-08-06</td>\n",
       "      <td>12:15:00</td>\n",
       "      <td>4800.000</td>\n",
       "    </tr>\n",
       "  </tbody>\n",
       "</table>\n",
       "</div>"
      ],
      "text/plain": [
       "       BabyId  FirsttimeParent Crying date Crying time  Crying seconds  \\\n",
       "0  HPT2_NR_16                1  2015-08-05    20:31:47           900.0   \n",
       "1  HPT2_NR_16                1  2015-08-05    23:33:46           600.0   \n",
       "2  HPT2_NR_16                1  2015-08-06    10:20:00           916.0   \n",
       "3  HPT2_NR_16                1  2015-08-06    11:30:00           300.0   \n",
       "4  HPT2_NR_16                1  2015-08-06    12:15:00           600.0   \n",
       "\n",
       "  Feeding date Feeding time  Bottle amount PumpingDate  \\\n",
       "0   2015-08-05     20:31:47          180.0  2015-08-05   \n",
       "1   2015-08-05     23:33:46          180.0  2015-08-05   \n",
       "2   2015-08-06     10:20:00          180.0  2015-08-06   \n",
       "3   2015-08-06     11:30:00           35.0  2015-08-06   \n",
       "4   2015-08-06     12:15:00          180.0  2015-08-06   \n",
       "\n",
       "  PumpingTimePumpingLeftPumpingRight  Pumping Left  PumpingRight SleepingDate  \\\n",
       "0                           20:31:47          40.0          30.0   2015-08-05   \n",
       "1                           23:33:46          50.0          35.0   2015-08-05   \n",
       "2                           10:20:00           NaN           NaN   2015-08-06   \n",
       "3                           11:30:00           NaN           NaN   2015-08-06   \n",
       "4                           12:15:00           NaN           NaN   2015-08-06   \n",
       "\n",
       "  SleepingTime  SleepingSecond  \n",
       "0     20:31:47        5153.979  \n",
       "1     23:33:46       33365.110  \n",
       "2     10:20:00        2100.000  \n",
       "3     11:30:00        1200.000  \n",
       "4     12:15:00        4800.000  "
      ]
     },
     "execution_count": 3,
     "metadata": {},
     "output_type": "execute_result"
    }
   ],
   "source": [
    "df.head()"
   ]
  },
  {
   "cell_type": "code",
   "execution_count": 4,
   "metadata": {},
   "outputs": [
    {
     "data": {
      "text/plain": [
       "(1773, 15)"
      ]
     },
     "execution_count": 4,
     "metadata": {},
     "output_type": "execute_result"
    }
   ],
   "source": [
    "df.shape"
   ]
  },
  {
   "cell_type": "code",
   "execution_count": 5,
   "metadata": {},
   "outputs": [
    {
     "data": {
      "text/plain": [
       "BabyId                                        object\n",
       "FirsttimeParent                                int64\n",
       "Crying date                           datetime64[ns]\n",
       "Crying time                                   object\n",
       "Crying seconds                               float64\n",
       "Feeding date                          datetime64[ns]\n",
       "Feeding time                                  object\n",
       "Bottle amount                                float64\n",
       "PumpingDate                           datetime64[ns]\n",
       "PumpingTimePumpingLeftPumpingRight            object\n",
       "Pumping Left                                 float64\n",
       "PumpingRight                                 float64\n",
       "SleepingDate                          datetime64[ns]\n",
       "SleepingTime                                  object\n",
       "SleepingSecond                               float64\n",
       "dtype: object"
      ]
     },
     "execution_count": 5,
     "metadata": {},
     "output_type": "execute_result"
    }
   ],
   "source": [
    "df.dtypes"
   ]
  },
  {
   "cell_type": "markdown",
   "metadata": {},
   "source": [
    "# Data Wrangling and Data Cleaning"
   ]
  },
  {
   "cell_type": "markdown",
   "metadata": {},
   "source": [
    "## 1. ​Consider childbirth sheet and perform data cleaning technique by-"
   ]
  },
  {
   "cell_type": "markdown",
   "metadata": {},
   "source": [
    "### 1. Handling NA values "
   ]
  },
  {
   "cell_type": "code",
   "execution_count": 6,
   "metadata": {},
   "outputs": [
    {
     "data": {
      "text/plain": [
       "BabyId                                   0\n",
       "FirsttimeParent                          0\n",
       "Crying date                              0\n",
       "Crying time                              0\n",
       "Crying seconds                        1700\n",
       "Feeding date                             0\n",
       "Feeding time                             0\n",
       "Bottle amount                          729\n",
       "PumpingDate                              0\n",
       "PumpingTimePumpingLeftPumpingRight       0\n",
       "Pumping Left                          1712\n",
       "PumpingRight                          1705\n",
       "SleepingDate                             0\n",
       "SleepingTime                             0\n",
       "SleepingSecond                         777\n",
       "dtype: int64"
      ]
     },
     "execution_count": 6,
     "metadata": {},
     "output_type": "execute_result"
    }
   ],
   "source": [
    "df.isna().sum()"
   ]
  },
  {
   "cell_type": "code",
   "execution_count": 7,
   "metadata": {
    "scrolled": false
   },
   "outputs": [
    {
     "name": "stdout",
     "output_type": "stream",
     "text": [
      "NaN values:\n",
      "\n",
      "Crying seconds - 95.88%\n",
      "Bottle amount - 41.12%\n",
      "Pumping Left - 96.56%\n",
      "PumpingRight - 96.16%\n",
      "SleepingSecond - 43.82%\n"
     ]
    }
   ],
   "source": [
    "print(\"NaN values:\\n\")\n",
    "for i in df.columns:\n",
    "    if df[i].isna().any():\n",
    "        print(i + \" - \", end=\"\")\n",
    "        nanperc = df[i].value_counts(dropna=False, normalize=True).values[0]\n",
    "        print((nanperc * 100).round(2), end=\"%\\n\")"
   ]
  },
  {
   "cell_type": "markdown",
   "metadata": {},
   "source": [
    "`Crying seconds`, `Pumping Left` and `PumpingRight` have more than 95% missing values. Ideally, they should be dropped. But because the further questions are based on them, I will just impute them with the average.\n",
    "\n",
    "`Bottle amount` and `SleepingSecond` have slightly more than 40% missing values and hence, they too can be imputed with the mean."
   ]
  },
  {
   "cell_type": "code",
   "execution_count": 8,
   "metadata": {},
   "outputs": [],
   "source": [
    "df = df.fillna(df.mean())"
   ]
  },
  {
   "cell_type": "markdown",
   "metadata": {},
   "source": [
    "### 2. Find the overall statistical information of the dataset. "
   ]
  },
  {
   "cell_type": "code",
   "execution_count": 9,
   "metadata": {},
   "outputs": [
    {
     "data": {
      "text/html": [
       "<div>\n",
       "<style scoped>\n",
       "    .dataframe tbody tr th:only-of-type {\n",
       "        vertical-align: middle;\n",
       "    }\n",
       "\n",
       "    .dataframe tbody tr th {\n",
       "        vertical-align: top;\n",
       "    }\n",
       "\n",
       "    .dataframe thead th {\n",
       "        text-align: right;\n",
       "    }\n",
       "</style>\n",
       "<table border=\"1\" class=\"dataframe\">\n",
       "  <thead>\n",
       "    <tr style=\"text-align: right;\">\n",
       "      <th></th>\n",
       "      <th>FirsttimeParent</th>\n",
       "      <th>Crying seconds</th>\n",
       "      <th>Bottle amount</th>\n",
       "      <th>Pumping Left</th>\n",
       "      <th>PumpingRight</th>\n",
       "      <th>SleepingSecond</th>\n",
       "    </tr>\n",
       "  </thead>\n",
       "  <tbody>\n",
       "    <tr>\n",
       "      <th>count</th>\n",
       "      <td>1773.000000</td>\n",
       "      <td>1773.000000</td>\n",
       "      <td>1773.000000</td>\n",
       "      <td>1773.000000</td>\n",
       "      <td>1773.000000</td>\n",
       "      <td>1773.000000</td>\n",
       "    </tr>\n",
       "    <tr>\n",
       "      <th>mean</th>\n",
       "      <td>0.840948</td>\n",
       "      <td>1457.206747</td>\n",
       "      <td>127.203065</td>\n",
       "      <td>48.360656</td>\n",
       "      <td>38.014706</td>\n",
       "      <td>9896.331265</td>\n",
       "    </tr>\n",
       "    <tr>\n",
       "      <th>std</th>\n",
       "      <td>0.365828</td>\n",
       "      <td>415.045241</td>\n",
       "      <td>28.047172</td>\n",
       "      <td>7.838885</td>\n",
       "      <td>4.937932</td>\n",
       "      <td>6620.212145</td>\n",
       "    </tr>\n",
       "    <tr>\n",
       "      <th>min</th>\n",
       "      <td>0.000000</td>\n",
       "      <td>25.000000</td>\n",
       "      <td>20.000000</td>\n",
       "      <td>0.000000</td>\n",
       "      <td>0.000000</td>\n",
       "      <td>114.492500</td>\n",
       "    </tr>\n",
       "    <tr>\n",
       "      <th>25%</th>\n",
       "      <td>1.000000</td>\n",
       "      <td>1457.206747</td>\n",
       "      <td>120.000000</td>\n",
       "      <td>48.360656</td>\n",
       "      <td>38.014706</td>\n",
       "      <td>6600.000000</td>\n",
       "    </tr>\n",
       "    <tr>\n",
       "      <th>50%</th>\n",
       "      <td>1.000000</td>\n",
       "      <td>1457.206747</td>\n",
       "      <td>127.203065</td>\n",
       "      <td>48.360656</td>\n",
       "      <td>38.014706</td>\n",
       "      <td>9896.331265</td>\n",
       "    </tr>\n",
       "    <tr>\n",
       "      <th>75%</th>\n",
       "      <td>1.000000</td>\n",
       "      <td>1457.206747</td>\n",
       "      <td>130.000000</td>\n",
       "      <td>48.360656</td>\n",
       "      <td>38.014706</td>\n",
       "      <td>9896.331265</td>\n",
       "    </tr>\n",
       "    <tr>\n",
       "      <th>max</th>\n",
       "      <td>1.000000</td>\n",
       "      <td>12600.000000</td>\n",
       "      <td>210.000000</td>\n",
       "      <td>190.000000</td>\n",
       "      <td>155.000000</td>\n",
       "      <td>45000.000000</td>\n",
       "    </tr>\n",
       "  </tbody>\n",
       "</table>\n",
       "</div>"
      ],
      "text/plain": [
       "       FirsttimeParent  Crying seconds  Bottle amount  Pumping Left  \\\n",
       "count      1773.000000     1773.000000    1773.000000   1773.000000   \n",
       "mean          0.840948     1457.206747     127.203065     48.360656   \n",
       "std           0.365828      415.045241      28.047172      7.838885   \n",
       "min           0.000000       25.000000      20.000000      0.000000   \n",
       "25%           1.000000     1457.206747     120.000000     48.360656   \n",
       "50%           1.000000     1457.206747     127.203065     48.360656   \n",
       "75%           1.000000     1457.206747     130.000000     48.360656   \n",
       "max           1.000000    12600.000000     210.000000    190.000000   \n",
       "\n",
       "       PumpingRight  SleepingSecond  \n",
       "count   1773.000000     1773.000000  \n",
       "mean      38.014706     9896.331265  \n",
       "std        4.937932     6620.212145  \n",
       "min        0.000000      114.492500  \n",
       "25%       38.014706     6600.000000  \n",
       "50%       38.014706     9896.331265  \n",
       "75%       38.014706     9896.331265  \n",
       "max      155.000000    45000.000000  "
      ]
     },
     "execution_count": 9,
     "metadata": {},
     "output_type": "execute_result"
    }
   ],
   "source": [
    "df.describe()"
   ]
  },
  {
   "cell_type": "code",
   "execution_count": 10,
   "metadata": {},
   "outputs": [
    {
     "data": {
      "text/html": [
       "<div>\n",
       "<style scoped>\n",
       "    .dataframe tbody tr th:only-of-type {\n",
       "        vertical-align: middle;\n",
       "    }\n",
       "\n",
       "    .dataframe tbody tr th {\n",
       "        vertical-align: top;\n",
       "    }\n",
       "\n",
       "    .dataframe thead th {\n",
       "        text-align: right;\n",
       "    }\n",
       "</style>\n",
       "<table border=\"1\" class=\"dataframe\">\n",
       "  <thead>\n",
       "    <tr style=\"text-align: right;\">\n",
       "      <th></th>\n",
       "      <th>BabyId</th>\n",
       "      <th>Crying time</th>\n",
       "      <th>Feeding time</th>\n",
       "      <th>PumpingTimePumpingLeftPumpingRight</th>\n",
       "      <th>SleepingTime</th>\n",
       "    </tr>\n",
       "  </thead>\n",
       "  <tbody>\n",
       "    <tr>\n",
       "      <th>count</th>\n",
       "      <td>1773</td>\n",
       "      <td>1773</td>\n",
       "      <td>1773</td>\n",
       "      <td>1773</td>\n",
       "      <td>1773</td>\n",
       "    </tr>\n",
       "    <tr>\n",
       "      <th>unique</th>\n",
       "      <td>17</td>\n",
       "      <td>788</td>\n",
       "      <td>788</td>\n",
       "      <td>788</td>\n",
       "      <td>788</td>\n",
       "    </tr>\n",
       "    <tr>\n",
       "      <th>top</th>\n",
       "      <td>HPT2_NR_30</td>\n",
       "      <td>16:00:00</td>\n",
       "      <td>16:00:00</td>\n",
       "      <td>16:00:00</td>\n",
       "      <td>16:00:00</td>\n",
       "    </tr>\n",
       "    <tr>\n",
       "      <th>freq</th>\n",
       "      <td>199</td>\n",
       "      <td>23</td>\n",
       "      <td>23</td>\n",
       "      <td>23</td>\n",
       "      <td>23</td>\n",
       "    </tr>\n",
       "  </tbody>\n",
       "</table>\n",
       "</div>"
      ],
      "text/plain": [
       "            BabyId Crying time Feeding time  \\\n",
       "count         1773        1773         1773   \n",
       "unique          17         788          788   \n",
       "top     HPT2_NR_30    16:00:00     16:00:00   \n",
       "freq           199          23           23   \n",
       "\n",
       "       PumpingTimePumpingLeftPumpingRight SleepingTime  \n",
       "count                                1773         1773  \n",
       "unique                                788          788  \n",
       "top                              16:00:00     16:00:00  \n",
       "freq                                   23           23  "
      ]
     },
     "execution_count": 10,
     "metadata": {},
     "output_type": "execute_result"
    }
   ],
   "source": [
    "df.describe(include=['O'])"
   ]
  },
  {
   "cell_type": "markdown",
   "metadata": {},
   "source": [
    "### 3. Find the correlation between Crying seconds of babies, sleeping seconds "
   ]
  },
  {
   "cell_type": "code",
   "execution_count": 11,
   "metadata": {},
   "outputs": [
    {
     "data": {
      "text/html": [
       "<div>\n",
       "<style scoped>\n",
       "    .dataframe tbody tr th:only-of-type {\n",
       "        vertical-align: middle;\n",
       "    }\n",
       "\n",
       "    .dataframe tbody tr th {\n",
       "        vertical-align: top;\n",
       "    }\n",
       "\n",
       "    .dataframe thead th {\n",
       "        text-align: right;\n",
       "    }\n",
       "</style>\n",
       "<table border=\"1\" class=\"dataframe\">\n",
       "  <thead>\n",
       "    <tr style=\"text-align: right;\">\n",
       "      <th></th>\n",
       "      <th>Crying seconds</th>\n",
       "      <th>SleepingSecond</th>\n",
       "    </tr>\n",
       "  </thead>\n",
       "  <tbody>\n",
       "    <tr>\n",
       "      <th>Crying seconds</th>\n",
       "      <td>1.000000</td>\n",
       "      <td>0.000817</td>\n",
       "    </tr>\n",
       "    <tr>\n",
       "      <th>SleepingSecond</th>\n",
       "      <td>0.000817</td>\n",
       "      <td>1.000000</td>\n",
       "    </tr>\n",
       "  </tbody>\n",
       "</table>\n",
       "</div>"
      ],
      "text/plain": [
       "                Crying seconds  SleepingSecond\n",
       "Crying seconds        1.000000        0.000817\n",
       "SleepingSecond        0.000817        1.000000"
      ]
     },
     "execution_count": 11,
     "metadata": {},
     "output_type": "execute_result"
    }
   ],
   "source": [
    "corr = df[['Crying seconds','SleepingSecond']].corr()\n",
    "corr"
   ]
  },
  {
   "cell_type": "code",
   "execution_count": 12,
   "metadata": {},
   "outputs": [
    {
     "data": {
      "image/png": "[encoded data removed]",
      "text/plain": [
       "<Figure size 432x288 with 2 Axes>"
      ]
     },
     "metadata": {
      "needs_background": "light"
     },
     "output_type": "display_data"
    }
   ],
   "source": [
    "sns.heatmap(corr);"
   ]
  },
  {
   "cell_type": "markdown",
   "metadata": {},
   "source": [
    "The correlation between `Crying seconds` and `SleepingSecond` is very weak, almost negligible."
   ]
  },
  {
   "cell_type": "markdown",
   "metadata": {},
   "source": [
    "### 4. Take any 2 babies’ data as a subset. Check whether that subset is deviating from the entire dataset. If it is deviating remove it from the dataframe"
   ]
  },
  {
   "cell_type": "code",
   "execution_count": 13,
   "metadata": {
    "scrolled": true
   },
   "outputs": [
    {
     "data": {
      "text/plain": [
       "array(['HPT2_NR_16', 'HPT2_NR_17', 'HPT2_NR_18', 'HPT2_NR_19',\n",
       "       'HPT2_NR_20', 'HPT2_NR_21', 'HPT2_NR_22', 'HPT2_NR_23',\n",
       "       'HPT2_NR_24', 'HPT2_NR_25', 'HPT2_NR_26', 'HPT2_NR_27',\n",
       "       'HPT2_NR_28', 'HPT2_NR_29', 'HPT2_NR_30', 'HPT2_NR_31',\n",
       "       'HPT2_NR_33'], dtype=object)"
      ]
     },
     "execution_count": 13,
     "metadata": {},
     "output_type": "execute_result"
    }
   ],
   "source": [
    "babyids = df.BabyId.unique()\n",
    "babyids"
   ]
  },
  {
   "cell_type": "code",
   "execution_count": 14,
   "metadata": {},
   "outputs": [
    {
     "data": {
      "text/plain": [
       "array(['HPT2_NR_28', 'HPT2_NR_31'], dtype=object)"
      ]
     },
     "execution_count": 14,
     "metadata": {},
     "output_type": "execute_result"
    }
   ],
   "source": [
    "baby2 = np.random.choice(babyids, 2)\n",
    "baby2"
   ]
  },
  {
   "cell_type": "code",
   "execution_count": 15,
   "metadata": {},
   "outputs": [],
   "source": [
    "baby2df = pd.DataFrame(columns=df.columns)\n",
    "for i in baby2:\n",
    "    baby2df = baby2df.append(df[df.BabyId == i])"
   ]
  },
  {
   "cell_type": "code",
   "execution_count": 16,
   "metadata": {},
   "outputs": [
    {
     "data": {
      "text/html": [
       "<div>\n",
       "<style scoped>\n",
       "    .dataframe tbody tr th:only-of-type {\n",
       "        vertical-align: middle;\n",
       "    }\n",
       "\n",
       "    .dataframe tbody tr th {\n",
       "        vertical-align: top;\n",
       "    }\n",
       "\n",
       "    .dataframe thead th {\n",
       "        text-align: right;\n",
       "    }\n",
       "</style>\n",
       "<table border=\"1\" class=\"dataframe\">\n",
       "  <thead>\n",
       "    <tr style=\"text-align: right;\">\n",
       "      <th></th>\n",
       "      <th>BabyId</th>\n",
       "      <th>FirsttimeParent</th>\n",
       "      <th>Crying date</th>\n",
       "      <th>Crying time</th>\n",
       "      <th>Crying seconds</th>\n",
       "      <th>Feeding date</th>\n",
       "      <th>Feeding time</th>\n",
       "      <th>Bottle amount</th>\n",
       "      <th>PumpingDate</th>\n",
       "      <th>PumpingTimePumpingLeftPumpingRight</th>\n",
       "      <th>Pumping Left</th>\n",
       "      <th>PumpingRight</th>\n",
       "      <th>SleepingDate</th>\n",
       "      <th>SleepingTime</th>\n",
       "      <th>SleepingSecond</th>\n",
       "    </tr>\n",
       "  </thead>\n",
       "  <tbody>\n",
       "    <tr>\n",
       "      <th>1134</th>\n",
       "      <td>HPT2_NR_28</td>\n",
       "      <td>1</td>\n",
       "      <td>2015-07-22</td>\n",
       "      <td>10:45:00</td>\n",
       "      <td>1457.206747</td>\n",
       "      <td>2015-07-22</td>\n",
       "      <td>10:45:00</td>\n",
       "      <td>127.203065</td>\n",
       "      <td>2015-07-22</td>\n",
       "      <td>10:45:00</td>\n",
       "      <td>80.0</td>\n",
       "      <td>60.0</td>\n",
       "      <td>2015-07-22</td>\n",
       "      <td>10:45:00</td>\n",
       "      <td>5100.000</td>\n",
       "    </tr>\n",
       "    <tr>\n",
       "      <th>1135</th>\n",
       "      <td>HPT2_NR_28</td>\n",
       "      <td>1</td>\n",
       "      <td>2015-07-22</td>\n",
       "      <td>13:45:00</td>\n",
       "      <td>1457.206747</td>\n",
       "      <td>2015-07-22</td>\n",
       "      <td>13:45:00</td>\n",
       "      <td>127.203065</td>\n",
       "      <td>2015-07-22</td>\n",
       "      <td>13:45:00</td>\n",
       "      <td>80.0</td>\n",
       "      <td>60.0</td>\n",
       "      <td>2015-07-22</td>\n",
       "      <td>13:45:00</td>\n",
       "      <td>3598.958</td>\n",
       "    </tr>\n",
       "    <tr>\n",
       "      <th>1136</th>\n",
       "      <td>HPT2_NR_28</td>\n",
       "      <td>1</td>\n",
       "      <td>2015-07-22</td>\n",
       "      <td>14:36:30</td>\n",
       "      <td>1457.206747</td>\n",
       "      <td>2015-07-22</td>\n",
       "      <td>14:36:30</td>\n",
       "      <td>127.203065</td>\n",
       "      <td>2015-07-22</td>\n",
       "      <td>14:36:30</td>\n",
       "      <td>95.0</td>\n",
       "      <td>15.0</td>\n",
       "      <td>2015-07-22</td>\n",
       "      <td>14:36:30</td>\n",
       "      <td>3974.000</td>\n",
       "    </tr>\n",
       "    <tr>\n",
       "      <th>1137</th>\n",
       "      <td>HPT2_NR_28</td>\n",
       "      <td>1</td>\n",
       "      <td>2015-07-22</td>\n",
       "      <td>19:32:15</td>\n",
       "      <td>1457.206747</td>\n",
       "      <td>2015-07-22</td>\n",
       "      <td>19:32:15</td>\n",
       "      <td>127.203065</td>\n",
       "      <td>2015-07-22</td>\n",
       "      <td>19:32:15</td>\n",
       "      <td>140.0</td>\n",
       "      <td>60.0</td>\n",
       "      <td>2015-07-22</td>\n",
       "      <td>19:32:15</td>\n",
       "      <td>9562.014</td>\n",
       "    </tr>\n",
       "    <tr>\n",
       "      <th>1138</th>\n",
       "      <td>HPT2_NR_28</td>\n",
       "      <td>1</td>\n",
       "      <td>2015-07-22</td>\n",
       "      <td>21:47:42</td>\n",
       "      <td>1457.206747</td>\n",
       "      <td>2015-07-22</td>\n",
       "      <td>21:47:42</td>\n",
       "      <td>127.203065</td>\n",
       "      <td>2015-07-22</td>\n",
       "      <td>21:47:42</td>\n",
       "      <td>190.0</td>\n",
       "      <td>40.0</td>\n",
       "      <td>2015-07-22</td>\n",
       "      <td>21:47:42</td>\n",
       "      <td>9894.855</td>\n",
       "    </tr>\n",
       "  </tbody>\n",
       "</table>\n",
       "</div>"
      ],
      "text/plain": [
       "          BabyId FirsttimeParent Crying date Crying time  Crying seconds  \\\n",
       "1134  HPT2_NR_28               1  2015-07-22    10:45:00     1457.206747   \n",
       "1135  HPT2_NR_28               1  2015-07-22    13:45:00     1457.206747   \n",
       "1136  HPT2_NR_28               1  2015-07-22    14:36:30     1457.206747   \n",
       "1137  HPT2_NR_28               1  2015-07-22    19:32:15     1457.206747   \n",
       "1138  HPT2_NR_28               1  2015-07-22    21:47:42     1457.206747   \n",
       "\n",
       "     Feeding date Feeding time  Bottle amount PumpingDate  \\\n",
       "1134   2015-07-22     10:45:00     127.203065  2015-07-22   \n",
       "1135   2015-07-22     13:45:00     127.203065  2015-07-22   \n",
       "1136   2015-07-22     14:36:30     127.203065  2015-07-22   \n",
       "1137   2015-07-22     19:32:15     127.203065  2015-07-22   \n",
       "1138   2015-07-22     21:47:42     127.203065  2015-07-22   \n",
       "\n",
       "     PumpingTimePumpingLeftPumpingRight  Pumping Left  PumpingRight  \\\n",
       "1134                           10:45:00          80.0          60.0   \n",
       "1135                           13:45:00          80.0          60.0   \n",
       "1136                           14:36:30          95.0          15.0   \n",
       "1137                           19:32:15         140.0          60.0   \n",
       "1138                           21:47:42         190.0          40.0   \n",
       "\n",
       "     SleepingDate SleepingTime  SleepingSecond  \n",
       "1134   2015-07-22     10:45:00        5100.000  \n",
       "1135   2015-07-22     13:45:00        3598.958  \n",
       "1136   2015-07-22     14:36:30        3974.000  \n",
       "1137   2015-07-22     19:32:15        9562.014  \n",
       "1138   2015-07-22     21:47:42        9894.855  "
      ]
     },
     "execution_count": 16,
     "metadata": {},
     "output_type": "execute_result"
    }
   ],
   "source": [
    "baby2df.head()"
   ]
  },
  {
   "cell_type": "code",
   "execution_count": 17,
   "metadata": {},
   "outputs": [
    {
     "data": {
      "text/html": [
       "<div>\n",
       "<style scoped>\n",
       "    .dataframe tbody tr th:only-of-type {\n",
       "        vertical-align: middle;\n",
       "    }\n",
       "\n",
       "    .dataframe tbody tr th {\n",
       "        vertical-align: top;\n",
       "    }\n",
       "\n",
       "    .dataframe thead th {\n",
       "        text-align: right;\n",
       "    }\n",
       "</style>\n",
       "<table border=\"1\" class=\"dataframe\">\n",
       "  <thead>\n",
       "    <tr style=\"text-align: right;\">\n",
       "      <th></th>\n",
       "      <th>Crying seconds</th>\n",
       "      <th>Bottle amount</th>\n",
       "      <th>Pumping Left</th>\n",
       "      <th>PumpingRight</th>\n",
       "      <th>SleepingSecond</th>\n",
       "    </tr>\n",
       "  </thead>\n",
       "  <tbody>\n",
       "    <tr>\n",
       "      <th>count</th>\n",
       "      <td>276.000000</td>\n",
       "      <td>276.000000</td>\n",
       "      <td>276.000000</td>\n",
       "      <td>276.000000</td>\n",
       "      <td>276.000000</td>\n",
       "    </tr>\n",
       "    <tr>\n",
       "      <th>mean</th>\n",
       "      <td>1554.283094</td>\n",
       "      <td>113.181534</td>\n",
       "      <td>51.076859</td>\n",
       "      <td>38.771313</td>\n",
       "      <td>9472.758999</td>\n",
       "    </tr>\n",
       "    <tr>\n",
       "      <th>std</th>\n",
       "      <td>676.018714</td>\n",
       "      <td>15.365828</td>\n",
       "      <td>16.032856</td>\n",
       "      <td>4.879962</td>\n",
       "      <td>2132.906450</td>\n",
       "    </tr>\n",
       "    <tr>\n",
       "      <th>min</th>\n",
       "      <td>900.000000</td>\n",
       "      <td>25.000000</td>\n",
       "      <td>48.360656</td>\n",
       "      <td>15.000000</td>\n",
       "      <td>2138.800000</td>\n",
       "    </tr>\n",
       "    <tr>\n",
       "      <th>25%</th>\n",
       "      <td>1457.206747</td>\n",
       "      <td>100.000000</td>\n",
       "      <td>48.360656</td>\n",
       "      <td>38.014706</td>\n",
       "      <td>9000.000000</td>\n",
       "    </tr>\n",
       "    <tr>\n",
       "      <th>50%</th>\n",
       "      <td>1457.206747</td>\n",
       "      <td>115.000000</td>\n",
       "      <td>48.360656</td>\n",
       "      <td>38.014706</td>\n",
       "      <td>9896.331265</td>\n",
       "    </tr>\n",
       "    <tr>\n",
       "      <th>75%</th>\n",
       "      <td>1457.206747</td>\n",
       "      <td>127.203065</td>\n",
       "      <td>48.360656</td>\n",
       "      <td>38.014706</td>\n",
       "      <td>9896.331265</td>\n",
       "    </tr>\n",
       "    <tr>\n",
       "      <th>max</th>\n",
       "      <td>8040.000000</td>\n",
       "      <td>150.000000</td>\n",
       "      <td>190.000000</td>\n",
       "      <td>75.000000</td>\n",
       "      <td>18960.000000</td>\n",
       "    </tr>\n",
       "  </tbody>\n",
       "</table>\n",
       "</div>"
      ],
      "text/plain": [
       "       Crying seconds  Bottle amount  Pumping Left  PumpingRight  \\\n",
       "count      276.000000     276.000000    276.000000    276.000000   \n",
       "mean      1554.283094     113.181534     51.076859     38.771313   \n",
       "std        676.018714      15.365828     16.032856      4.879962   \n",
       "min        900.000000      25.000000     48.360656     15.000000   \n",
       "25%       1457.206747     100.000000     48.360656     38.014706   \n",
       "50%       1457.206747     115.000000     48.360656     38.014706   \n",
       "75%       1457.206747     127.203065     48.360656     38.014706   \n",
       "max       8040.000000     150.000000    190.000000     75.000000   \n",
       "\n",
       "       SleepingSecond  \n",
       "count      276.000000  \n",
       "mean      9472.758999  \n",
       "std       2132.906450  \n",
       "min       2138.800000  \n",
       "25%       9000.000000  \n",
       "50%       9896.331265  \n",
       "75%       9896.331265  \n",
       "max      18960.000000  "
      ]
     },
     "execution_count": 17,
     "metadata": {},
     "output_type": "execute_result"
    }
   ],
   "source": [
    "baby2df.describe()"
   ]
  },
  {
   "cell_type": "code",
   "execution_count": 18,
   "metadata": {},
   "outputs": [
    {
     "data": {
      "text/html": [
       "<div>\n",
       "<style scoped>\n",
       "    .dataframe tbody tr th:only-of-type {\n",
       "        vertical-align: middle;\n",
       "    }\n",
       "\n",
       "    .dataframe tbody tr th {\n",
       "        vertical-align: top;\n",
       "    }\n",
       "\n",
       "    .dataframe thead th {\n",
       "        text-align: right;\n",
       "    }\n",
       "</style>\n",
       "<table border=\"1\" class=\"dataframe\">\n",
       "  <thead>\n",
       "    <tr style=\"text-align: right;\">\n",
       "      <th></th>\n",
       "      <th>FirsttimeParent</th>\n",
       "      <th>Crying seconds</th>\n",
       "      <th>Bottle amount</th>\n",
       "      <th>Pumping Left</th>\n",
       "      <th>PumpingRight</th>\n",
       "      <th>SleepingSecond</th>\n",
       "    </tr>\n",
       "  </thead>\n",
       "  <tbody>\n",
       "    <tr>\n",
       "      <th>count</th>\n",
       "      <td>1773.000000</td>\n",
       "      <td>1773.000000</td>\n",
       "      <td>1773.000000</td>\n",
       "      <td>1773.000000</td>\n",
       "      <td>1773.000000</td>\n",
       "      <td>1773.000000</td>\n",
       "    </tr>\n",
       "    <tr>\n",
       "      <th>mean</th>\n",
       "      <td>0.840948</td>\n",
       "      <td>1457.206747</td>\n",
       "      <td>127.203065</td>\n",
       "      <td>48.360656</td>\n",
       "      <td>38.014706</td>\n",
       "      <td>9896.331265</td>\n",
       "    </tr>\n",
       "    <tr>\n",
       "      <th>std</th>\n",
       "      <td>0.365828</td>\n",
       "      <td>415.045241</td>\n",
       "      <td>28.047172</td>\n",
       "      <td>7.838885</td>\n",
       "      <td>4.937932</td>\n",
       "      <td>6620.212145</td>\n",
       "    </tr>\n",
       "    <tr>\n",
       "      <th>min</th>\n",
       "      <td>0.000000</td>\n",
       "      <td>25.000000</td>\n",
       "      <td>20.000000</td>\n",
       "      <td>0.000000</td>\n",
       "      <td>0.000000</td>\n",
       "      <td>114.492500</td>\n",
       "    </tr>\n",
       "    <tr>\n",
       "      <th>25%</th>\n",
       "      <td>1.000000</td>\n",
       "      <td>1457.206747</td>\n",
       "      <td>120.000000</td>\n",
       "      <td>48.360656</td>\n",
       "      <td>38.014706</td>\n",
       "      <td>6600.000000</td>\n",
       "    </tr>\n",
       "    <tr>\n",
       "      <th>50%</th>\n",
       "      <td>1.000000</td>\n",
       "      <td>1457.206747</td>\n",
       "      <td>127.203065</td>\n",
       "      <td>48.360656</td>\n",
       "      <td>38.014706</td>\n",
       "      <td>9896.331265</td>\n",
       "    </tr>\n",
       "    <tr>\n",
       "      <th>75%</th>\n",
       "      <td>1.000000</td>\n",
       "      <td>1457.206747</td>\n",
       "      <td>130.000000</td>\n",
       "      <td>48.360656</td>\n",
       "      <td>38.014706</td>\n",
       "      <td>9896.331265</td>\n",
       "    </tr>\n",
       "    <tr>\n",
       "      <th>max</th>\n",
       "      <td>1.000000</td>\n",
       "      <td>12600.000000</td>\n",
       "      <td>210.000000</td>\n",
       "      <td>190.000000</td>\n",
       "      <td>155.000000</td>\n",
       "      <td>45000.000000</td>\n",
       "    </tr>\n",
       "  </tbody>\n",
       "</table>\n",
       "</div>"
      ],
      "text/plain": [
       "       FirsttimeParent  Crying seconds  Bottle amount  Pumping Left  \\\n",
       "count      1773.000000     1773.000000    1773.000000   1773.000000   \n",
       "mean          0.840948     1457.206747     127.203065     48.360656   \n",
       "std           0.365828      415.045241      28.047172      7.838885   \n",
       "min           0.000000       25.000000      20.000000      0.000000   \n",
       "25%           1.000000     1457.206747     120.000000     48.360656   \n",
       "50%           1.000000     1457.206747     127.203065     48.360656   \n",
       "75%           1.000000     1457.206747     130.000000     48.360656   \n",
       "max           1.000000    12600.000000     210.000000    190.000000   \n",
       "\n",
       "       PumpingRight  SleepingSecond  \n",
       "count   1773.000000     1773.000000  \n",
       "mean      38.014706     9896.331265  \n",
       "std        4.937932     6620.212145  \n",
       "min        0.000000      114.492500  \n",
       "25%       38.014706     6600.000000  \n",
       "50%       38.014706     9896.331265  \n",
       "75%       38.014706     9896.331265  \n",
       "max      155.000000    45000.000000  "
      ]
     },
     "execution_count": 18,
     "metadata": {},
     "output_type": "execute_result"
    }
   ],
   "source": [
    "df.describe()"
   ]
  },
  {
   "cell_type": "markdown",
   "metadata": {},
   "source": [
    "There is extremely minor deviation in the main dataset and the chosen subset. Hence, it will not be dropped."
   ]
  },
  {
   "cell_type": "markdown",
   "metadata": {},
   "source": [
    "### 5. Perform any other technique to clean data."
   ]
  },
  {
   "cell_type": "markdown",
   "metadata": {},
   "source": [
    "For starters, the column name `PumpingTimePumpingLeftPumpingRight` seems to be mixed up with other column names. It should be fixed to `PumpingTime`."
   ]
  },
  {
   "cell_type": "code",
   "execution_count": 19,
   "metadata": {},
   "outputs": [],
   "source": [
    "df.rename(columns = {'PumpingTimePumpingLeftPumpingRight':'PumpingTime'}, inplace=True)"
   ]
  },
  {
   "cell_type": "markdown",
   "metadata": {},
   "source": [
    "# Data Analysis & Visualization "
   ]
  },
  {
   "cell_type": "markdown",
   "metadata": {},
   "source": [
    "## 2.​ Plot the following plots-"
   ]
  },
  {
   "cell_type": "markdown",
   "metadata": {},
   "source": [
    "### 1. Take 5 babies into consideration and draw a bar chart to know crying data on different days. "
   ]
  },
  {
   "cell_type": "code",
   "execution_count": 20,
   "metadata": {},
   "outputs": [
    {
     "data": {
      "text/plain": [
       "array(['HPT2_NR_16', 'HPT2_NR_19', 'HPT2_NR_19', 'HPT2_NR_23',\n",
       "       'HPT2_NR_25'], dtype=object)"
      ]
     },
     "execution_count": 20,
     "metadata": {},
     "output_type": "execute_result"
    }
   ],
   "source": [
    "baby5 = np.random.choice(babyids, 5)\n",
    "baby5"
   ]
  },
  {
   "cell_type": "code",
   "execution_count": 21,
   "metadata": {},
   "outputs": [],
   "source": [
    "baby5df = pd.DataFrame(columns=df.columns)\n",
    "for i in baby5:\n",
    "    baby5df = baby5df.append(df[df.BabyId == i])"
   ]
  },
  {
   "cell_type": "code",
   "execution_count": 22,
   "metadata": {},
   "outputs": [
    {
     "data": {
      "text/html": [
       "<div>\n",
       "<style scoped>\n",
       "    .dataframe tbody tr th:only-of-type {\n",
       "        vertical-align: middle;\n",
       "    }\n",
       "\n",
       "    .dataframe tbody tr th {\n",
       "        vertical-align: top;\n",
       "    }\n",
       "\n",
       "    .dataframe thead th {\n",
       "        text-align: right;\n",
       "    }\n",
       "</style>\n",
       "<table border=\"1\" class=\"dataframe\">\n",
       "  <thead>\n",
       "    <tr style=\"text-align: right;\">\n",
       "      <th></th>\n",
       "      <th>BabyId</th>\n",
       "      <th>FirsttimeParent</th>\n",
       "      <th>Crying date</th>\n",
       "      <th>Crying time</th>\n",
       "      <th>Crying seconds</th>\n",
       "      <th>Feeding date</th>\n",
       "      <th>Feeding time</th>\n",
       "      <th>Bottle amount</th>\n",
       "      <th>PumpingDate</th>\n",
       "      <th>PumpingTime</th>\n",
       "      <th>Pumping Left</th>\n",
       "      <th>PumpingRight</th>\n",
       "      <th>SleepingDate</th>\n",
       "      <th>SleepingTime</th>\n",
       "      <th>SleepingSecond</th>\n",
       "    </tr>\n",
       "  </thead>\n",
       "  <tbody>\n",
       "    <tr>\n",
       "      <th>0</th>\n",
       "      <td>HPT2_NR_16</td>\n",
       "      <td>1</td>\n",
       "      <td>2015-08-05</td>\n",
       "      <td>20:31:47</td>\n",
       "      <td>900.0</td>\n",
       "      <td>2015-08-05</td>\n",
       "      <td>20:31:47</td>\n",
       "      <td>180.0</td>\n",
       "      <td>2015-08-05</td>\n",
       "      <td>20:31:47</td>\n",
       "      <td>40.000000</td>\n",
       "      <td>30.000000</td>\n",
       "      <td>2015-08-05</td>\n",
       "      <td>20:31:47</td>\n",
       "      <td>5153.979</td>\n",
       "    </tr>\n",
       "    <tr>\n",
       "      <th>1</th>\n",
       "      <td>HPT2_NR_16</td>\n",
       "      <td>1</td>\n",
       "      <td>2015-08-05</td>\n",
       "      <td>23:33:46</td>\n",
       "      <td>600.0</td>\n",
       "      <td>2015-08-05</td>\n",
       "      <td>23:33:46</td>\n",
       "      <td>180.0</td>\n",
       "      <td>2015-08-05</td>\n",
       "      <td>23:33:46</td>\n",
       "      <td>50.000000</td>\n",
       "      <td>35.000000</td>\n",
       "      <td>2015-08-05</td>\n",
       "      <td>23:33:46</td>\n",
       "      <td>33365.110</td>\n",
       "    </tr>\n",
       "    <tr>\n",
       "      <th>2</th>\n",
       "      <td>HPT2_NR_16</td>\n",
       "      <td>1</td>\n",
       "      <td>2015-08-06</td>\n",
       "      <td>10:20:00</td>\n",
       "      <td>916.0</td>\n",
       "      <td>2015-08-06</td>\n",
       "      <td>10:20:00</td>\n",
       "      <td>180.0</td>\n",
       "      <td>2015-08-06</td>\n",
       "      <td>10:20:00</td>\n",
       "      <td>48.360656</td>\n",
       "      <td>38.014706</td>\n",
       "      <td>2015-08-06</td>\n",
       "      <td>10:20:00</td>\n",
       "      <td>2100.000</td>\n",
       "    </tr>\n",
       "    <tr>\n",
       "      <th>3</th>\n",
       "      <td>HPT2_NR_16</td>\n",
       "      <td>1</td>\n",
       "      <td>2015-08-06</td>\n",
       "      <td>11:30:00</td>\n",
       "      <td>300.0</td>\n",
       "      <td>2015-08-06</td>\n",
       "      <td>11:30:00</td>\n",
       "      <td>35.0</td>\n",
       "      <td>2015-08-06</td>\n",
       "      <td>11:30:00</td>\n",
       "      <td>48.360656</td>\n",
       "      <td>38.014706</td>\n",
       "      <td>2015-08-06</td>\n",
       "      <td>11:30:00</td>\n",
       "      <td>1200.000</td>\n",
       "    </tr>\n",
       "    <tr>\n",
       "      <th>4</th>\n",
       "      <td>HPT2_NR_16</td>\n",
       "      <td>1</td>\n",
       "      <td>2015-08-06</td>\n",
       "      <td>12:15:00</td>\n",
       "      <td>600.0</td>\n",
       "      <td>2015-08-06</td>\n",
       "      <td>12:15:00</td>\n",
       "      <td>180.0</td>\n",
       "      <td>2015-08-06</td>\n",
       "      <td>12:15:00</td>\n",
       "      <td>48.360656</td>\n",
       "      <td>38.014706</td>\n",
       "      <td>2015-08-06</td>\n",
       "      <td>12:15:00</td>\n",
       "      <td>4800.000</td>\n",
       "    </tr>\n",
       "  </tbody>\n",
       "</table>\n",
       "</div>"
      ],
      "text/plain": [
       "       BabyId FirsttimeParent Crying date Crying time  Crying seconds  \\\n",
       "0  HPT2_NR_16               1  2015-08-05    20:31:47           900.0   \n",
       "1  HPT2_NR_16               1  2015-08-05    23:33:46           600.0   \n",
       "2  HPT2_NR_16               1  2015-08-06    10:20:00           916.0   \n",
       "3  HPT2_NR_16               1  2015-08-06    11:30:00           300.0   \n",
       "4  HPT2_NR_16               1  2015-08-06    12:15:00           600.0   \n",
       "\n",
       "  Feeding date Feeding time  Bottle amount PumpingDate PumpingTime  \\\n",
       "0   2015-08-05     20:31:47          180.0  2015-08-05    20:31:47   \n",
       "1   2015-08-05     23:33:46          180.0  2015-08-05    23:33:46   \n",
       "2   2015-08-06     10:20:00          180.0  2015-08-06    10:20:00   \n",
       "3   2015-08-06     11:30:00           35.0  2015-08-06    11:30:00   \n",
       "4   2015-08-06     12:15:00          180.0  2015-08-06    12:15:00   \n",
       "\n",
       "   Pumping Left  PumpingRight SleepingDate SleepingTime  SleepingSecond  \n",
       "0     40.000000     30.000000   2015-08-05     20:31:47        5153.979  \n",
       "1     50.000000     35.000000   2015-08-05     23:33:46       33365.110  \n",
       "2     48.360656     38.014706   2015-08-06     10:20:00        2100.000  \n",
       "3     48.360656     38.014706   2015-08-06     11:30:00        1200.000  \n",
       "4     48.360656     38.014706   2015-08-06     12:15:00        4800.000  "
      ]
     },
     "execution_count": 22,
     "metadata": {},
     "output_type": "execute_result"
    }
   ],
   "source": [
    "baby5df.head()"
   ]
  },
  {
   "cell_type": "code",
   "execution_count": 23,
   "metadata": {},
   "outputs": [],
   "source": [
    "baby5df['CryingDay'] = baby5df['Crying date'].dt.dayofweek"
   ]
  },
  {
   "cell_type": "code",
   "execution_count": 24,
   "metadata": {},
   "outputs": [],
   "source": [
    "baby5df.replace({'CryingDay': {0:'Monday',1:'Tuesday', 2:'Wednesday', 3:'Thursday', 4:'Friday', 5:'Saturday', 6:'Sunday'}}, inplace=True)"
   ]
  },
  {
   "cell_type": "code",
   "execution_count": 25,
   "metadata": {},
   "outputs": [
    {
     "data": {
      "text/html": [
       "<div>\n",
       "<style scoped>\n",
       "    .dataframe tbody tr th:only-of-type {\n",
       "        vertical-align: middle;\n",
       "    }\n",
       "\n",
       "    .dataframe tbody tr th {\n",
       "        vertical-align: top;\n",
       "    }\n",
       "\n",
       "    .dataframe thead th {\n",
       "        text-align: right;\n",
       "    }\n",
       "</style>\n",
       "<table border=\"1\" class=\"dataframe\">\n",
       "  <thead>\n",
       "    <tr style=\"text-align: right;\">\n",
       "      <th></th>\n",
       "      <th>BabyId</th>\n",
       "      <th>FirsttimeParent</th>\n",
       "      <th>Crying date</th>\n",
       "      <th>Crying time</th>\n",
       "      <th>Crying seconds</th>\n",
       "      <th>Feeding date</th>\n",
       "      <th>Feeding time</th>\n",
       "      <th>Bottle amount</th>\n",
       "      <th>PumpingDate</th>\n",
       "      <th>PumpingTime</th>\n",
       "      <th>Pumping Left</th>\n",
       "      <th>PumpingRight</th>\n",
       "      <th>SleepingDate</th>\n",
       "      <th>SleepingTime</th>\n",
       "      <th>SleepingSecond</th>\n",
       "      <th>CryingDay</th>\n",
       "    </tr>\n",
       "  </thead>\n",
       "  <tbody>\n",
       "    <tr>\n",
       "      <th>0</th>\n",
       "      <td>HPT2_NR_16</td>\n",
       "      <td>1</td>\n",
       "      <td>2015-08-05</td>\n",
       "      <td>20:31:47</td>\n",
       "      <td>900.0</td>\n",
       "      <td>2015-08-05</td>\n",
       "      <td>20:31:47</td>\n",
       "      <td>180.0</td>\n",
       "      <td>2015-08-05</td>\n",
       "      <td>20:31:47</td>\n",
       "      <td>40.000000</td>\n",
       "      <td>30.000000</td>\n",
       "      <td>2015-08-05</td>\n",
       "      <td>20:31:47</td>\n",
       "      <td>5153.979</td>\n",
       "      <td>Wednesday</td>\n",
       "    </tr>\n",
       "    <tr>\n",
       "      <th>1</th>\n",
       "      <td>HPT2_NR_16</td>\n",
       "      <td>1</td>\n",
       "      <td>2015-08-05</td>\n",
       "      <td>23:33:46</td>\n",
       "      <td>600.0</td>\n",
       "      <td>2015-08-05</td>\n",
       "      <td>23:33:46</td>\n",
       "      <td>180.0</td>\n",
       "      <td>2015-08-05</td>\n",
       "      <td>23:33:46</td>\n",
       "      <td>50.000000</td>\n",
       "      <td>35.000000</td>\n",
       "      <td>2015-08-05</td>\n",
       "      <td>23:33:46</td>\n",
       "      <td>33365.110</td>\n",
       "      <td>Wednesday</td>\n",
       "    </tr>\n",
       "    <tr>\n",
       "      <th>2</th>\n",
       "      <td>HPT2_NR_16</td>\n",
       "      <td>1</td>\n",
       "      <td>2015-08-06</td>\n",
       "      <td>10:20:00</td>\n",
       "      <td>916.0</td>\n",
       "      <td>2015-08-06</td>\n",
       "      <td>10:20:00</td>\n",
       "      <td>180.0</td>\n",
       "      <td>2015-08-06</td>\n",
       "      <td>10:20:00</td>\n",
       "      <td>48.360656</td>\n",
       "      <td>38.014706</td>\n",
       "      <td>2015-08-06</td>\n",
       "      <td>10:20:00</td>\n",
       "      <td>2100.000</td>\n",
       "      <td>Thursday</td>\n",
       "    </tr>\n",
       "    <tr>\n",
       "      <th>3</th>\n",
       "      <td>HPT2_NR_16</td>\n",
       "      <td>1</td>\n",
       "      <td>2015-08-06</td>\n",
       "      <td>11:30:00</td>\n",
       "      <td>300.0</td>\n",
       "      <td>2015-08-06</td>\n",
       "      <td>11:30:00</td>\n",
       "      <td>35.0</td>\n",
       "      <td>2015-08-06</td>\n",
       "      <td>11:30:00</td>\n",
       "      <td>48.360656</td>\n",
       "      <td>38.014706</td>\n",
       "      <td>2015-08-06</td>\n",
       "      <td>11:30:00</td>\n",
       "      <td>1200.000</td>\n",
       "      <td>Thursday</td>\n",
       "    </tr>\n",
       "    <tr>\n",
       "      <th>4</th>\n",
       "      <td>HPT2_NR_16</td>\n",
       "      <td>1</td>\n",
       "      <td>2015-08-06</td>\n",
       "      <td>12:15:00</td>\n",
       "      <td>600.0</td>\n",
       "      <td>2015-08-06</td>\n",
       "      <td>12:15:00</td>\n",
       "      <td>180.0</td>\n",
       "      <td>2015-08-06</td>\n",
       "      <td>12:15:00</td>\n",
       "      <td>48.360656</td>\n",
       "      <td>38.014706</td>\n",
       "      <td>2015-08-06</td>\n",
       "      <td>12:15:00</td>\n",
       "      <td>4800.000</td>\n",
       "      <td>Thursday</td>\n",
       "    </tr>\n",
       "  </tbody>\n",
       "</table>\n",
       "</div>"
      ],
      "text/plain": [
       "       BabyId FirsttimeParent Crying date Crying time  Crying seconds  \\\n",
       "0  HPT2_NR_16               1  2015-08-05    20:31:47           900.0   \n",
       "1  HPT2_NR_16               1  2015-08-05    23:33:46           600.0   \n",
       "2  HPT2_NR_16               1  2015-08-06    10:20:00           916.0   \n",
       "3  HPT2_NR_16               1  2015-08-06    11:30:00           300.0   \n",
       "4  HPT2_NR_16               1  2015-08-06    12:15:00           600.0   \n",
       "\n",
       "  Feeding date Feeding time  Bottle amount PumpingDate PumpingTime  \\\n",
       "0   2015-08-05     20:31:47          180.0  2015-08-05    20:31:47   \n",
       "1   2015-08-05     23:33:46          180.0  2015-08-05    23:33:46   \n",
       "2   2015-08-06     10:20:00          180.0  2015-08-06    10:20:00   \n",
       "3   2015-08-06     11:30:00           35.0  2015-08-06    11:30:00   \n",
       "4   2015-08-06     12:15:00          180.0  2015-08-06    12:15:00   \n",
       "\n",
       "   Pumping Left  PumpingRight SleepingDate SleepingTime  SleepingSecond  \\\n",
       "0     40.000000     30.000000   2015-08-05     20:31:47        5153.979   \n",
       "1     50.000000     35.000000   2015-08-05     23:33:46       33365.110   \n",
       "2     48.360656     38.014706   2015-08-06     10:20:00        2100.000   \n",
       "3     48.360656     38.014706   2015-08-06     11:30:00        1200.000   \n",
       "4     48.360656     38.014706   2015-08-06     12:15:00        4800.000   \n",
       "\n",
       "   CryingDay  \n",
       "0  Wednesday  \n",
       "1  Wednesday  \n",
       "2   Thursday  \n",
       "3   Thursday  \n",
       "4   Thursday  "
      ]
     },
     "execution_count": 25,
     "metadata": {},
     "output_type": "execute_result"
    }
   ],
   "source": [
    "baby5df.head()"
   ]
  },
  {
   "cell_type": "code",
   "execution_count": 26,
   "metadata": {
    "scrolled": true
   },
   "outputs": [
    {
     "data": {
      "image/png": "[encoded data removed]",
      "text/plain": [
       "<Figure size 432x288 with 1 Axes>"
      ]
     },
     "metadata": {
      "needs_background": "light"
     },
     "output_type": "display_data"
    }
   ],
   "source": [
    "baby5df.groupby('CryingDay').mean()['Crying seconds'].plot(kind='bar'); #By average"
   ]
  },
  {
   "cell_type": "code",
   "execution_count": 27,
   "metadata": {
    "scrolled": true
   },
   "outputs": [
    {
     "data": {
      "image/png": "[encoded data removed]",
      "text/plain": [
       "<Figure size 432x288 with 1 Axes>"
      ]
     },
     "metadata": {
      "needs_background": "light"
     },
     "output_type": "display_data"
    }
   ],
   "source": [
    "baby5df.groupby('CryingDay').sum()['Crying seconds'].plot(kind='bar'); #By sum"
   ]
  },
  {
   "cell_type": "markdown",
   "metadata": {},
   "source": [
    "### 2. Consider Pumping data (Pumping left, Pumping right column) and feeding data(Bottle amount column). Draw Bar chart to find out any relationship between them by taking any 4 babies. "
   ]
  },
  {
   "cell_type": "code",
   "execution_count": 28,
   "metadata": {},
   "outputs": [
    {
     "data": {
      "text/plain": [
       "array(['HPT2_NR_20', 'HPT2_NR_22', 'HPT2_NR_28', 'HPT2_NR_17'],\n",
       "      dtype=object)"
      ]
     },
     "execution_count": 28,
     "metadata": {},
     "output_type": "execute_result"
    }
   ],
   "source": [
    "baby4 = np.random.choice(babyids, 4)\n",
    "baby4"
   ]
  },
  {
   "cell_type": "code",
   "execution_count": 29,
   "metadata": {},
   "outputs": [],
   "source": [
    "baby4df = pd.DataFrame(columns=df.columns)\n",
    "for i in baby4:\n",
    "    baby4df = baby4df.append(df[df.BabyId == i])"
   ]
  },
  {
   "cell_type": "code",
   "execution_count": 30,
   "metadata": {
    "scrolled": false
   },
   "outputs": [
    {
     "data": {
      "image/png": "[encoded data removed]",
      "text/plain": [
       "<Figure size 720x288 with 1 Axes>"
      ]
     },
     "metadata": {
      "needs_background": "light"
     },
     "output_type": "display_data"
    }
   ],
   "source": [
    "plt.figure(figsize=(10,4))\n",
    "sns.barplot(x=baby4df['Pumping Left'],y=baby4df['Bottle amount']);"
   ]
  },
  {
   "cell_type": "code",
   "execution_count": 31,
   "metadata": {
    "scrolled": false
   },
   "outputs": [
    {
     "data": {
      "image/png": "[encoded data removed]",
      "text/plain": [
       "<Figure size 720x288 with 1 Axes>"
      ]
     },
     "metadata": {
      "needs_background": "light"
     },
     "output_type": "display_data"
    }
   ],
   "source": [
    "plt.figure(figsize=(10,4))\n",
    "sns.barplot(x=baby4df['PumpingRight'],y=baby4df['Bottle amount']);"
   ]
  },
  {
   "cell_type": "code",
   "execution_count": 32,
   "metadata": {},
   "outputs": [],
   "source": [
    "baby4df['PumpingData'] = baby4df['Pumping Left'] + baby4df['PumpingRight']"
   ]
  },
  {
   "cell_type": "code",
   "execution_count": 33,
   "metadata": {
    "scrolled": true
   },
   "outputs": [
    {
     "data": {
      "text/html": [
       "<div>\n",
       "<style scoped>\n",
       "    .dataframe tbody tr th:only-of-type {\n",
       "        vertical-align: middle;\n",
       "    }\n",
       "\n",
       "    .dataframe tbody tr th {\n",
       "        vertical-align: top;\n",
       "    }\n",
       "\n",
       "    .dataframe thead th {\n",
       "        text-align: right;\n",
       "    }\n",
       "</style>\n",
       "<table border=\"1\" class=\"dataframe\">\n",
       "  <thead>\n",
       "    <tr style=\"text-align: right;\">\n",
       "      <th></th>\n",
       "      <th>BabyId</th>\n",
       "      <th>FirsttimeParent</th>\n",
       "      <th>Crying date</th>\n",
       "      <th>Crying time</th>\n",
       "      <th>Crying seconds</th>\n",
       "      <th>Feeding date</th>\n",
       "      <th>Feeding time</th>\n",
       "      <th>Bottle amount</th>\n",
       "      <th>PumpingDate</th>\n",
       "      <th>PumpingTime</th>\n",
       "      <th>Pumping Left</th>\n",
       "      <th>PumpingRight</th>\n",
       "      <th>SleepingDate</th>\n",
       "      <th>SleepingTime</th>\n",
       "      <th>SleepingSecond</th>\n",
       "      <th>PumpingData</th>\n",
       "    </tr>\n",
       "  </thead>\n",
       "  <tbody>\n",
       "    <tr>\n",
       "      <th>365</th>\n",
       "      <td>HPT2_NR_20</td>\n",
       "      <td>1</td>\n",
       "      <td>2015-08-05</td>\n",
       "      <td>16:00:21</td>\n",
       "      <td>1080.000000</td>\n",
       "      <td>2015-08-05</td>\n",
       "      <td>16:00:21</td>\n",
       "      <td>70.0</td>\n",
       "      <td>2015-08-05</td>\n",
       "      <td>16:00:21</td>\n",
       "      <td>48.360656</td>\n",
       "      <td>38.014706</td>\n",
       "      <td>2015-08-05</td>\n",
       "      <td>16:00:21</td>\n",
       "      <td>10800.0</td>\n",
       "      <td>86.375362</td>\n",
       "    </tr>\n",
       "    <tr>\n",
       "      <th>366</th>\n",
       "      <td>HPT2_NR_20</td>\n",
       "      <td>1</td>\n",
       "      <td>2015-08-05</td>\n",
       "      <td>19:30:00</td>\n",
       "      <td>1457.206747</td>\n",
       "      <td>2015-08-05</td>\n",
       "      <td>19:30:00</td>\n",
       "      <td>90.0</td>\n",
       "      <td>2015-08-05</td>\n",
       "      <td>19:30:00</td>\n",
       "      <td>48.360656</td>\n",
       "      <td>38.014706</td>\n",
       "      <td>2015-08-05</td>\n",
       "      <td>19:30:00</td>\n",
       "      <td>10800.0</td>\n",
       "      <td>86.375362</td>\n",
       "    </tr>\n",
       "    <tr>\n",
       "      <th>367</th>\n",
       "      <td>HPT2_NR_20</td>\n",
       "      <td>1</td>\n",
       "      <td>2015-08-05</td>\n",
       "      <td>23:20:00</td>\n",
       "      <td>1457.206747</td>\n",
       "      <td>2015-08-05</td>\n",
       "      <td>23:20:00</td>\n",
       "      <td>90.0</td>\n",
       "      <td>2015-08-05</td>\n",
       "      <td>23:20:00</td>\n",
       "      <td>48.360656</td>\n",
       "      <td>38.014706</td>\n",
       "      <td>2015-08-05</td>\n",
       "      <td>23:20:00</td>\n",
       "      <td>12900.0</td>\n",
       "      <td>86.375362</td>\n",
       "    </tr>\n",
       "    <tr>\n",
       "      <th>368</th>\n",
       "      <td>HPT2_NR_20</td>\n",
       "      <td>1</td>\n",
       "      <td>2015-08-06</td>\n",
       "      <td>02:15:00</td>\n",
       "      <td>1457.206747</td>\n",
       "      <td>2015-08-06</td>\n",
       "      <td>02:15:00</td>\n",
       "      <td>90.0</td>\n",
       "      <td>2015-08-06</td>\n",
       "      <td>02:15:00</td>\n",
       "      <td>48.360656</td>\n",
       "      <td>38.014706</td>\n",
       "      <td>2015-08-06</td>\n",
       "      <td>02:15:00</td>\n",
       "      <td>9300.0</td>\n",
       "      <td>86.375362</td>\n",
       "    </tr>\n",
       "    <tr>\n",
       "      <th>369</th>\n",
       "      <td>HPT2_NR_20</td>\n",
       "      <td>1</td>\n",
       "      <td>2015-08-06</td>\n",
       "      <td>05:00:00</td>\n",
       "      <td>1457.206747</td>\n",
       "      <td>2015-08-06</td>\n",
       "      <td>05:00:00</td>\n",
       "      <td>90.0</td>\n",
       "      <td>2015-08-06</td>\n",
       "      <td>05:00:00</td>\n",
       "      <td>48.360656</td>\n",
       "      <td>38.014706</td>\n",
       "      <td>2015-08-06</td>\n",
       "      <td>05:00:00</td>\n",
       "      <td>8700.0</td>\n",
       "      <td>86.375362</td>\n",
       "    </tr>\n",
       "  </tbody>\n",
       "</table>\n",
       "</div>"
      ],
      "text/plain": [
       "         BabyId FirsttimeParent Crying date Crying time  Crying seconds  \\\n",
       "365  HPT2_NR_20               1  2015-08-05    16:00:21     1080.000000   \n",
       "366  HPT2_NR_20               1  2015-08-05    19:30:00     1457.206747   \n",
       "367  HPT2_NR_20               1  2015-08-05    23:20:00     1457.206747   \n",
       "368  HPT2_NR_20               1  2015-08-06    02:15:00     1457.206747   \n",
       "369  HPT2_NR_20               1  2015-08-06    05:00:00     1457.206747   \n",
       "\n",
       "    Feeding date Feeding time  Bottle amount PumpingDate PumpingTime  \\\n",
       "365   2015-08-05     16:00:21           70.0  2015-08-05    16:00:21   \n",
       "366   2015-08-05     19:30:00           90.0  2015-08-05    19:30:00   \n",
       "367   2015-08-05     23:20:00           90.0  2015-08-05    23:20:00   \n",
       "368   2015-08-06     02:15:00           90.0  2015-08-06    02:15:00   \n",
       "369   2015-08-06     05:00:00           90.0  2015-08-06    05:00:00   \n",
       "\n",
       "     Pumping Left  PumpingRight SleepingDate SleepingTime  SleepingSecond  \\\n",
       "365     48.360656     38.014706   2015-08-05     16:00:21         10800.0   \n",
       "366     48.360656     38.014706   2015-08-05     19:30:00         10800.0   \n",
       "367     48.360656     38.014706   2015-08-05     23:20:00         12900.0   \n",
       "368     48.360656     38.014706   2015-08-06     02:15:00          9300.0   \n",
       "369     48.360656     38.014706   2015-08-06     05:00:00          8700.0   \n",
       "\n",
       "     PumpingData  \n",
       "365    86.375362  \n",
       "366    86.375362  \n",
       "367    86.375362  \n",
       "368    86.375362  \n",
       "369    86.375362  "
      ]
     },
     "execution_count": 33,
     "metadata": {},
     "output_type": "execute_result"
    }
   ],
   "source": [
    "baby4df.head()"
   ]
  },
  {
   "cell_type": "code",
   "execution_count": 34,
   "metadata": {
    "scrolled": true
   },
   "outputs": [
    {
     "data": {
      "image/png": "[encoded data removed]",
      "text/plain": [
       "<Figure size 864x288 with 1 Axes>"
      ]
     },
     "metadata": {
      "needs_background": "light"
     },
     "output_type": "display_data"
    }
   ],
   "source": [
    "plt.figure(figsize=(12,4))\n",
    "sns.barplot(x=baby4df.PumpingData, y=baby4df['Bottle amount']);"
   ]
  },
  {
   "cell_type": "markdown",
   "metadata": {},
   "source": [
    "From the barplots, there does not seem to be any relationship that stands out between `Pumping Left`, `Pumping Right`, `Bottle amount` or the newly created variable `PumpingData`."
   ]
  },
  {
   "cell_type": "markdown",
   "metadata": {},
   "source": [
    "### 3. Find outliers by drawing a Scatter plot. If there are any, remove it from the dataframe. "
   ]
  },
  {
   "cell_type": "code",
   "execution_count": 35,
   "metadata": {
    "scrolled": false
   },
   "outputs": [
    {
     "data": {
      "image/png": "[encoded data removed]",
      "text/plain": [
       "<Figure size 1080x1080 with 42 Axes>"
      ]
     },
     "metadata": {
      "needs_background": "light"
     },
     "output_type": "display_data"
    }
   ],
   "source": [
    "sns.pairplot(df);"
   ]
  },
  {
   "cell_type": "code",
   "execution_count": 36,
   "metadata": {},
   "outputs": [],
   "source": [
    "numdf = df.select_dtypes(include=np.number)"
   ]
  },
  {
   "cell_type": "code",
   "execution_count": 37,
   "metadata": {},
   "outputs": [
    {
     "data": {
      "text/plain": [
       "(1773, 6)"
      ]
     },
     "execution_count": 37,
     "metadata": {},
     "output_type": "execute_result"
    }
   ],
   "source": [
    "numdf.shape"
   ]
  },
  {
   "cell_type": "code",
   "execution_count": 38,
   "metadata": {},
   "outputs": [],
   "source": [
    "z = np.abs(stats.zscore(numdf))"
   ]
  },
  {
   "cell_type": "code",
   "execution_count": 39,
   "metadata": {},
   "outputs": [],
   "source": [
    "numdf = numdf[(z <3).all(axis=1)]"
   ]
  },
  {
   "cell_type": "code",
   "execution_count": 40,
   "metadata": {},
   "outputs": [
    {
     "data": {
      "text/plain": [
       "(1642, 6)"
      ]
     },
     "execution_count": 40,
     "metadata": {},
     "output_type": "execute_result"
    }
   ],
   "source": [
    "numdf.shape"
   ]
  },
  {
   "cell_type": "markdown",
   "metadata": {},
   "source": [
    "## 3.​ Find out the following findings from the data "
   ]
  },
  {
   "cell_type": "markdown",
   "metadata": {},
   "source": [
    "### 1. Find out which baby has cried the most and least. "
   ]
  },
  {
   "cell_type": "code",
   "execution_count": 41,
   "metadata": {},
   "outputs": [
    {
     "data": {
      "text/html": [
       "<div>\n",
       "<style scoped>\n",
       "    .dataframe tbody tr th:only-of-type {\n",
       "        vertical-align: middle;\n",
       "    }\n",
       "\n",
       "    .dataframe tbody tr th {\n",
       "        vertical-align: top;\n",
       "    }\n",
       "\n",
       "    .dataframe thead th {\n",
       "        text-align: right;\n",
       "    }\n",
       "</style>\n",
       "<table border=\"1\" class=\"dataframe\">\n",
       "  <thead>\n",
       "    <tr style=\"text-align: right;\">\n",
       "      <th></th>\n",
       "      <th>Crying seconds</th>\n",
       "    </tr>\n",
       "    <tr>\n",
       "      <th>BabyId</th>\n",
       "      <th></th>\n",
       "    </tr>\n",
       "  </thead>\n",
       "  <tbody>\n",
       "    <tr>\n",
       "      <th>HPT2_NR_16</th>\n",
       "      <td>128635.780205</td>\n",
       "    </tr>\n",
       "    <tr>\n",
       "      <th>HPT2_NR_17</th>\n",
       "      <td>36430.168664</td>\n",
       "    </tr>\n",
       "    <tr>\n",
       "      <th>HPT2_NR_18</th>\n",
       "      <td>139847.712740</td>\n",
       "    </tr>\n",
       "    <tr>\n",
       "      <th>HPT2_NR_19</th>\n",
       "      <td>230418.665959</td>\n",
       "    </tr>\n",
       "    <tr>\n",
       "      <th>HPT2_NR_20</th>\n",
       "      <td>247347.940171</td>\n",
       "    </tr>\n",
       "    <tr>\n",
       "      <th>HPT2_NR_21</th>\n",
       "      <td>224409.838973</td>\n",
       "    </tr>\n",
       "    <tr>\n",
       "      <th>HPT2_NR_22</th>\n",
       "      <td>106376.092500</td>\n",
       "    </tr>\n",
       "    <tr>\n",
       "      <th>HPT2_NR_23</th>\n",
       "      <td>84517.991301</td>\n",
       "    </tr>\n",
       "    <tr>\n",
       "      <th>HPT2_NR_24</th>\n",
       "      <td>121528.252466</td>\n",
       "    </tr>\n",
       "    <tr>\n",
       "      <th>HPT2_NR_25</th>\n",
       "      <td>183608.050068</td>\n",
       "    </tr>\n",
       "    <tr>\n",
       "      <th>HPT2_NR_26</th>\n",
       "      <td>19243.687705</td>\n",
       "    </tr>\n",
       "    <tr>\n",
       "      <th>HPT2_NR_27</th>\n",
       "      <td>120948.159966</td>\n",
       "    </tr>\n",
       "    <tr>\n",
       "      <th>HPT2_NR_28</th>\n",
       "      <td>155921.121884</td>\n",
       "    </tr>\n",
       "    <tr>\n",
       "      <th>HPT2_NR_29</th>\n",
       "      <td>134474.193699</td>\n",
       "    </tr>\n",
       "    <tr>\n",
       "      <th>HPT2_NR_30</th>\n",
       "      <td>289984.142568</td>\n",
       "    </tr>\n",
       "    <tr>\n",
       "      <th>HPT2_NR_31</th>\n",
       "      <td>273061.011986</td>\n",
       "    </tr>\n",
       "    <tr>\n",
       "      <th>HPT2_NR_33</th>\n",
       "      <td>86874.750822</td>\n",
       "    </tr>\n",
       "  </tbody>\n",
       "</table>\n",
       "</div>"
      ],
      "text/plain": [
       "            Crying seconds\n",
       "BabyId                    \n",
       "HPT2_NR_16   128635.780205\n",
       "HPT2_NR_17    36430.168664\n",
       "HPT2_NR_18   139847.712740\n",
       "HPT2_NR_19   230418.665959\n",
       "HPT2_NR_20   247347.940171\n",
       "HPT2_NR_21   224409.838973\n",
       "HPT2_NR_22   106376.092500\n",
       "HPT2_NR_23    84517.991301\n",
       "HPT2_NR_24   121528.252466\n",
       "HPT2_NR_25   183608.050068\n",
       "HPT2_NR_26    19243.687705\n",
       "HPT2_NR_27   120948.159966\n",
       "HPT2_NR_28   155921.121884\n",
       "HPT2_NR_29   134474.193699\n",
       "HPT2_NR_30   289984.142568\n",
       "HPT2_NR_31   273061.011986\n",
       "HPT2_NR_33    86874.750822"
      ]
     },
     "execution_count": 41,
     "metadata": {},
     "output_type": "execute_result"
    }
   ],
   "source": [
    "df[['BabyId','Crying seconds']].groupby('BabyId').sum()"
   ]
  },
  {
   "cell_type": "code",
   "execution_count": 42,
   "metadata": {},
   "outputs": [
    {
     "data": {
      "image/png": "[encoded data removed]",
      "text/plain": [
       "<Figure size 576x576 with 1 Axes>"
      ]
     },
     "metadata": {
      "needs_background": "light"
     },
     "output_type": "display_data"
    }
   ],
   "source": [
    "df[['BabyId','Crying seconds']].groupby('BabyId').sum().plot(kind='bar', figsize=(8,8));"
   ]
  },
  {
   "cell_type": "markdown",
   "metadata": {},
   "source": [
    "The baby `HPT2_NR_30` has cried the <b>most</b>. (289984 seconds)\n",
    "\n",
    "The baby `HPT2_NR_26` has cried the <b>least</b>. (19243 seconds)"
   ]
  },
  {
   "cell_type": "markdown",
   "metadata": {},
   "source": [
    "### 2. Find out which baby has drank the most amount of milk and which baby the least."
   ]
  },
  {
   "cell_type": "code",
   "execution_count": 43,
   "metadata": {},
   "outputs": [
    {
     "data": {
      "text/html": [
       "<div>\n",
       "<style scoped>\n",
       "    .dataframe tbody tr th:only-of-type {\n",
       "        vertical-align: middle;\n",
       "    }\n",
       "\n",
       "    .dataframe tbody tr th {\n",
       "        vertical-align: top;\n",
       "    }\n",
       "\n",
       "    .dataframe thead th {\n",
       "        text-align: right;\n",
       "    }\n",
       "</style>\n",
       "<table border=\"1\" class=\"dataframe\">\n",
       "  <thead>\n",
       "    <tr style=\"text-align: right;\">\n",
       "      <th></th>\n",
       "      <th>Bottle amount</th>\n",
       "    </tr>\n",
       "    <tr>\n",
       "      <th>BabyId</th>\n",
       "      <th></th>\n",
       "    </tr>\n",
       "  </thead>\n",
       "  <tbody>\n",
       "    <tr>\n",
       "      <th>HPT2_NR_16</th>\n",
       "      <td>14933.467433</td>\n",
       "    </tr>\n",
       "    <tr>\n",
       "      <th>HPT2_NR_17</th>\n",
       "      <td>3126.858238</td>\n",
       "    </tr>\n",
       "    <tr>\n",
       "      <th>HPT2_NR_18</th>\n",
       "      <td>12691.436782</td>\n",
       "    </tr>\n",
       "    <tr>\n",
       "      <th>HPT2_NR_19</th>\n",
       "      <td>18456.992337</td>\n",
       "    </tr>\n",
       "    <tr>\n",
       "      <th>HPT2_NR_20</th>\n",
       "      <td>18665.000000</td>\n",
       "    </tr>\n",
       "    <tr>\n",
       "      <th>HPT2_NR_21</th>\n",
       "      <td>19766.226054</td>\n",
       "    </tr>\n",
       "    <tr>\n",
       "      <th>HPT2_NR_22</th>\n",
       "      <td>8773.793103</td>\n",
       "    </tr>\n",
       "    <tr>\n",
       "      <th>HPT2_NR_23</th>\n",
       "      <td>7330.574713</td>\n",
       "    </tr>\n",
       "    <tr>\n",
       "      <th>HPT2_NR_24</th>\n",
       "      <td>10005.000000</td>\n",
       "    </tr>\n",
       "    <tr>\n",
       "      <th>HPT2_NR_25</th>\n",
       "      <td>16027.586207</td>\n",
       "    </tr>\n",
       "    <tr>\n",
       "      <th>HPT2_NR_26</th>\n",
       "      <td>2268.812261</td>\n",
       "    </tr>\n",
       "    <tr>\n",
       "      <th>HPT2_NR_27</th>\n",
       "      <td>13285.000000</td>\n",
       "    </tr>\n",
       "    <tr>\n",
       "      <th>HPT2_NR_28</th>\n",
       "      <td>13533.103448</td>\n",
       "    </tr>\n",
       "    <tr>\n",
       "      <th>HPT2_NR_29</th>\n",
       "      <td>18130.000000</td>\n",
       "    </tr>\n",
       "    <tr>\n",
       "      <th>HPT2_NR_30</th>\n",
       "      <td>23200.000000</td>\n",
       "    </tr>\n",
       "    <tr>\n",
       "      <th>HPT2_NR_31</th>\n",
       "      <td>17705.000000</td>\n",
       "    </tr>\n",
       "    <tr>\n",
       "      <th>HPT2_NR_33</th>\n",
       "      <td>7632.183908</td>\n",
       "    </tr>\n",
       "  </tbody>\n",
       "</table>\n",
       "</div>"
      ],
      "text/plain": [
       "            Bottle amount\n",
       "BabyId                   \n",
       "HPT2_NR_16   14933.467433\n",
       "HPT2_NR_17    3126.858238\n",
       "HPT2_NR_18   12691.436782\n",
       "HPT2_NR_19   18456.992337\n",
       "HPT2_NR_20   18665.000000\n",
       "HPT2_NR_21   19766.226054\n",
       "HPT2_NR_22    8773.793103\n",
       "HPT2_NR_23    7330.574713\n",
       "HPT2_NR_24   10005.000000\n",
       "HPT2_NR_25   16027.586207\n",
       "HPT2_NR_26    2268.812261\n",
       "HPT2_NR_27   13285.000000\n",
       "HPT2_NR_28   13533.103448\n",
       "HPT2_NR_29   18130.000000\n",
       "HPT2_NR_30   23200.000000\n",
       "HPT2_NR_31   17705.000000\n",
       "HPT2_NR_33    7632.183908"
      ]
     },
     "execution_count": 43,
     "metadata": {},
     "output_type": "execute_result"
    }
   ],
   "source": [
    "df[['BabyId','Bottle amount']].groupby('BabyId').sum()"
   ]
  },
  {
   "cell_type": "code",
   "execution_count": 44,
   "metadata": {},
   "outputs": [
    {
     "data": {
      "image/png": "[encoded data removed]",
      "text/plain": [
       "<Figure size 576x576 with 1 Axes>"
      ]
     },
     "metadata": {
      "needs_background": "light"
     },
     "output_type": "display_data"
    }
   ],
   "source": [
    "df[['BabyId','Bottle amount']].groupby('BabyId').sum().plot(kind='bar',figsize=(8,8));"
   ]
  },
  {
   "cell_type": "markdown",
   "metadata": {},
   "source": [
    "The baby `HPT2_NR_30` had the <b>most</b> amount of milk. (23200)\n",
    "\n",
    "Both the babies `HPT2_NR_25` and `HPT2_NR_33` had the <b>least</b> amount of milk. (0)"
   ]
  },
  {
   "cell_type": "markdown",
   "metadata": {},
   "source": [
    "### 3. Check how many first time pregnancies are there. "
   ]
  },
  {
   "cell_type": "code",
   "execution_count": 45,
   "metadata": {},
   "outputs": [
    {
     "data": {
      "image/png": "[encoded data removed]",
      "text/plain": [
       "<Figure size 432x288 with 1 Axes>"
      ]
     },
     "metadata": {
      "needs_background": "light"
     },
     "output_type": "display_data"
    }
   ],
   "source": [
    "sns.countplot(df.FirsttimeParent);"
   ]
  },
  {
   "cell_type": "code",
   "execution_count": 46,
   "metadata": {},
   "outputs": [
    {
     "data": {
      "text/plain": [
       "1    1491\n",
       "0     282\n",
       "Name: FirsttimeParent, dtype: int64"
      ]
     },
     "execution_count": 46,
     "metadata": {},
     "output_type": "execute_result"
    }
   ],
   "source": [
    "df.FirsttimeParent.value_counts()"
   ]
  },
  {
   "cell_type": "code",
   "execution_count": 47,
   "metadata": {},
   "outputs": [
    {
     "data": {
      "text/plain": [
       "1    0.840948\n",
       "0    0.159052\n",
       "Name: FirsttimeParent, dtype: float64"
      ]
     },
     "execution_count": 47,
     "metadata": {},
     "output_type": "execute_result"
    }
   ],
   "source": [
    "df.FirsttimeParent.value_counts(normalize=True)"
   ]
  },
  {
   "cell_type": "markdown",
   "metadata": {},
   "source": [
    "There have been <b>1491</b> first time pregnancies, <b>84%</b> of total pregnancies."
   ]
  },
  {
   "cell_type": "markdown",
   "metadata": {},
   "source": [
    "<br>"
   ]
  },
  {
   "cell_type": "markdown",
   "metadata": {},
   "source": [
    "<br>"
   ]
  },
  {
   "cell_type": "markdown",
   "metadata": {},
   "source": [
    "<br>"
   ]
  },
  {
   "cell_type": "markdown",
   "metadata": {},
   "source": [
    "# Machine Learning Modeling"
   ]
  },
  {
   "cell_type": "markdown",
   "metadata": {},
   "source": [
    "## 4.​ Consider the birth sheet file "
   ]
  },
  {
   "cell_type": "markdown",
   "metadata": {},
   "source": [
    "### 1. Build a regressor model to find the relation between Mom_weight as an independent variable and Baby_Birth_Weight as the target variable. Also, an appropriate plot depicting their relation and find the intercept of the model. Make a train test split of 80:20(train:test) "
   ]
  },
  {
   "cell_type": "code",
   "execution_count": 73,
   "metadata": {},
   "outputs": [],
   "source": [
    "from sklearn.model_selection import train_test_split\n",
    "from sklearn.linear_model import LinearRegression\n",
    "from sklearn.metrics import r2_score\n",
    "from sklearn.metrics import mean_absolute_error\n",
    "from sklearn.metrics import mean_squared_error"
   ]
  },
  {
   "cell_type": "code",
   "execution_count": 49,
   "metadata": {},
   "outputs": [],
   "source": [
    "df2 = pd.read_excel(\"Infant Child Data.xlsx\", sheet_name=\"birth\")"
   ]
  },
  {
   "cell_type": "code",
   "execution_count": 50,
   "metadata": {},
   "outputs": [
    {
     "data": {
      "text/html": [
       "<div>\n",
       "<style scoped>\n",
       "    .dataframe tbody tr th:only-of-type {\n",
       "        vertical-align: middle;\n",
       "    }\n",
       "\n",
       "    .dataframe tbody tr th {\n",
       "        vertical-align: top;\n",
       "    }\n",
       "\n",
       "    .dataframe thead th {\n",
       "        text-align: right;\n",
       "    }\n",
       "</style>\n",
       "<table border=\"1\" class=\"dataframe\">\n",
       "  <thead>\n",
       "    <tr style=\"text-align: right;\">\n",
       "      <th></th>\n",
       "      <th>Mom_weight</th>\n",
       "      <th>Mom_height</th>\n",
       "      <th>Mom_Age</th>\n",
       "      <th>Religion</th>\n",
       "      <th>Baby_Gender</th>\n",
       "      <th>Baby_Birth_Weight</th>\n",
       "    </tr>\n",
       "  </thead>\n",
       "  <tbody>\n",
       "    <tr>\n",
       "      <th>0</th>\n",
       "      <td>41</td>\n",
       "      <td>152</td>\n",
       "      <td>25</td>\n",
       "      <td>1</td>\n",
       "      <td>1</td>\n",
       "      <td>2.06</td>\n",
       "    </tr>\n",
       "    <tr>\n",
       "      <th>1</th>\n",
       "      <td>42</td>\n",
       "      <td>157</td>\n",
       "      <td>25</td>\n",
       "      <td>3</td>\n",
       "      <td>1</td>\n",
       "      <td>1.70</td>\n",
       "    </tr>\n",
       "    <tr>\n",
       "      <th>2</th>\n",
       "      <td>44</td>\n",
       "      <td>153</td>\n",
       "      <td>23</td>\n",
       "      <td>2</td>\n",
       "      <td>1</td>\n",
       "      <td>1.59</td>\n",
       "    </tr>\n",
       "    <tr>\n",
       "      <th>3</th>\n",
       "      <td>45</td>\n",
       "      <td>177</td>\n",
       "      <td>19</td>\n",
       "      <td>2</td>\n",
       "      <td>1</td>\n",
       "      <td>2.73</td>\n",
       "    </tr>\n",
       "    <tr>\n",
       "      <th>4</th>\n",
       "      <td>46</td>\n",
       "      <td>160</td>\n",
       "      <td>19</td>\n",
       "      <td>2</td>\n",
       "      <td>1</td>\n",
       "      <td>2.08</td>\n",
       "    </tr>\n",
       "  </tbody>\n",
       "</table>\n",
       "</div>"
      ],
      "text/plain": [
       "   Mom_weight  Mom_height  Mom_Age  Religion  Baby_Gender  Baby_Birth_Weight\n",
       "0          41         152       25         1            1               2.06\n",
       "1          42         157       25         3            1               1.70\n",
       "2          44         153       23         2            1               1.59\n",
       "3          45         177       19         2            1               2.73\n",
       "4          46         160       19         2            1               2.08"
      ]
     },
     "execution_count": 50,
     "metadata": {},
     "output_type": "execute_result"
    }
   ],
   "source": [
    "df2.head()"
   ]
  },
  {
   "cell_type": "code",
   "execution_count": 51,
   "metadata": {},
   "outputs": [],
   "source": [
    "y = df2[['Baby_Birth_Weight']]"
   ]
  },
  {
   "cell_type": "code",
   "execution_count": 52,
   "metadata": {},
   "outputs": [
    {
     "data": {
      "text/html": [
       "<div>\n",
       "<style scoped>\n",
       "    .dataframe tbody tr th:only-of-type {\n",
       "        vertical-align: middle;\n",
       "    }\n",
       "\n",
       "    .dataframe tbody tr th {\n",
       "        vertical-align: top;\n",
       "    }\n",
       "\n",
       "    .dataframe thead th {\n",
       "        text-align: right;\n",
       "    }\n",
       "</style>\n",
       "<table border=\"1\" class=\"dataframe\">\n",
       "  <thead>\n",
       "    <tr style=\"text-align: right;\">\n",
       "      <th></th>\n",
       "      <th>Baby_Birth_Weight</th>\n",
       "    </tr>\n",
       "  </thead>\n",
       "  <tbody>\n",
       "    <tr>\n",
       "      <th>0</th>\n",
       "      <td>2.06</td>\n",
       "    </tr>\n",
       "    <tr>\n",
       "      <th>1</th>\n",
       "      <td>1.70</td>\n",
       "    </tr>\n",
       "    <tr>\n",
       "      <th>2</th>\n",
       "      <td>1.59</td>\n",
       "    </tr>\n",
       "    <tr>\n",
       "      <th>3</th>\n",
       "      <td>2.73</td>\n",
       "    </tr>\n",
       "    <tr>\n",
       "      <th>4</th>\n",
       "      <td>2.08</td>\n",
       "    </tr>\n",
       "  </tbody>\n",
       "</table>\n",
       "</div>"
      ],
      "text/plain": [
       "   Baby_Birth_Weight\n",
       "0               2.06\n",
       "1               1.70\n",
       "2               1.59\n",
       "3               2.73\n",
       "4               2.08"
      ]
     },
     "execution_count": 52,
     "metadata": {},
     "output_type": "execute_result"
    }
   ],
   "source": [
    "y.head()"
   ]
  },
  {
   "cell_type": "code",
   "execution_count": 53,
   "metadata": {},
   "outputs": [],
   "source": [
    "df2_train, df2_test, y_train, y_test = train_test_split(df2,y, test_size=0.2, random_state=100)"
   ]
  },
  {
   "cell_type": "code",
   "execution_count": 54,
   "metadata": {},
   "outputs": [
    {
     "data": {
      "text/plain": [
       "((151, 6), (38, 6), (151, 1), (38, 1))"
      ]
     },
     "execution_count": 54,
     "metadata": {},
     "output_type": "execute_result"
    }
   ],
   "source": [
    "df2_train.shape, df2_test.shape, y_train.shape, y_test.shape"
   ]
  },
  {
   "cell_type": "code",
   "execution_count": 55,
   "metadata": {},
   "outputs": [],
   "source": [
    "X_train = df2_train[['Mom_weight']]\n",
    "X_test = df2_test[['Mom_weight']]"
   ]
  },
  {
   "cell_type": "code",
   "execution_count": 56,
   "metadata": {},
   "outputs": [],
   "source": [
    "reg = LinearRegression().fit(X_train,y_train)"
   ]
  },
  {
   "cell_type": "code",
   "execution_count": 57,
   "metadata": {},
   "outputs": [
    {
     "data": {
      "text/plain": [
       "(array([[0.05037951]]), array([-0.34321539]))"
      ]
     },
     "execution_count": 57,
     "metadata": {},
     "output_type": "execute_result"
    }
   ],
   "source": [
    "reg.coef_, reg.intercept_"
   ]
  },
  {
   "cell_type": "markdown",
   "metadata": {},
   "source": [
    "Therefore, the equation formed is-\n",
    "\n",
    "$Baby\\_Birth\\_Weight = 0.05*Mom\\_weight - 0.34$"
   ]
  },
  {
   "cell_type": "code",
   "execution_count": 58,
   "metadata": {},
   "outputs": [],
   "source": [
    "y_train_pred = reg.predict(X_train)"
   ]
  },
  {
   "cell_type": "code",
   "execution_count": 59,
   "metadata": {},
   "outputs": [
    {
     "data": {
      "text/plain": [
       "0.6493019917648928"
      ]
     },
     "execution_count": 59,
     "metadata": {},
     "output_type": "execute_result"
    }
   ],
   "source": [
    "r2_score(y_train, y_train_pred)"
   ]
  },
  {
   "cell_type": "code",
   "execution_count": 60,
   "metadata": {},
   "outputs": [],
   "source": [
    "y_test_pred = reg.predict(X_test)"
   ]
  },
  {
   "cell_type": "code",
   "execution_count": 61,
   "metadata": {},
   "outputs": [
    {
     "data": {
      "text/plain": [
       "0.6093472423452342"
      ]
     },
     "execution_count": 61,
     "metadata": {},
     "output_type": "execute_result"
    }
   ],
   "source": [
    "r2_score(y_test, y_test_pred)"
   ]
  },
  {
   "cell_type": "markdown",
   "metadata": {},
   "source": [
    "### 2. Build a Multi Regression Model for predicting target variable mom_age using all the other variables. Make a train test split of 80:20(train:test) "
   ]
  },
  {
   "cell_type": "code",
   "execution_count": 62,
   "metadata": {},
   "outputs": [],
   "source": [
    "y = df2[['Mom_Age']]"
   ]
  },
  {
   "cell_type": "code",
   "execution_count": 63,
   "metadata": {},
   "outputs": [
    {
     "data": {
      "text/html": [
       "<div>\n",
       "<style scoped>\n",
       "    .dataframe tbody tr th:only-of-type {\n",
       "        vertical-align: middle;\n",
       "    }\n",
       "\n",
       "    .dataframe tbody tr th {\n",
       "        vertical-align: top;\n",
       "    }\n",
       "\n",
       "    .dataframe thead th {\n",
       "        text-align: right;\n",
       "    }\n",
       "</style>\n",
       "<table border=\"1\" class=\"dataframe\">\n",
       "  <thead>\n",
       "    <tr style=\"text-align: right;\">\n",
       "      <th></th>\n",
       "      <th>Mom_Age</th>\n",
       "    </tr>\n",
       "  </thead>\n",
       "  <tbody>\n",
       "    <tr>\n",
       "      <th>0</th>\n",
       "      <td>25</td>\n",
       "    </tr>\n",
       "    <tr>\n",
       "      <th>1</th>\n",
       "      <td>25</td>\n",
       "    </tr>\n",
       "    <tr>\n",
       "      <th>2</th>\n",
       "      <td>23</td>\n",
       "    </tr>\n",
       "    <tr>\n",
       "      <th>3</th>\n",
       "      <td>19</td>\n",
       "    </tr>\n",
       "    <tr>\n",
       "      <th>4</th>\n",
       "      <td>19</td>\n",
       "    </tr>\n",
       "  </tbody>\n",
       "</table>\n",
       "</div>"
      ],
      "text/plain": [
       "   Mom_Age\n",
       "0       25\n",
       "1       25\n",
       "2       23\n",
       "3       19\n",
       "4       19"
      ]
     },
     "execution_count": 63,
     "metadata": {},
     "output_type": "execute_result"
    }
   ],
   "source": [
    "y.head()"
   ]
  },
  {
   "cell_type": "code",
   "execution_count": 64,
   "metadata": {},
   "outputs": [],
   "source": [
    "df2_train, df2_test, y_train, y_test = train_test_split(df2,y, test_size=0.2, random_state=100)"
   ]
  },
  {
   "cell_type": "code",
   "execution_count": 65,
   "metadata": {},
   "outputs": [],
   "source": [
    "X_train = df2_train[['Mom_weight', 'Mom_height', 'Religion', 'Baby_Gender','Baby_Birth_Weight']]\n",
    "X_test = df2_test[['Mom_weight', 'Mom_height', 'Religion', 'Baby_Gender','Baby_Birth_Weight']]"
   ]
  },
  {
   "cell_type": "code",
   "execution_count": 66,
   "metadata": {},
   "outputs": [
    {
     "data": {
      "text/plain": [
       "((151, 6), (38, 6), (151, 1), (38, 1))"
      ]
     },
     "execution_count": 66,
     "metadata": {},
     "output_type": "execute_result"
    }
   ],
   "source": [
    "df2_train.shape, df2_test.shape, y_train.shape, y_test.shape"
   ]
  },
  {
   "cell_type": "code",
   "execution_count": 67,
   "metadata": {},
   "outputs": [],
   "source": [
    "reg = LinearRegression().fit(X_train, y_train)"
   ]
  },
  {
   "cell_type": "code",
   "execution_count": 68,
   "metadata": {},
   "outputs": [
    {
     "data": {
      "text/plain": [
       "(array([[ 0.07174517,  0.05228892, -0.50372646,  0.96018678, -0.33317146]]),\n",
       " array([10.30206997]))"
      ]
     },
     "execution_count": 68,
     "metadata": {},
     "output_type": "execute_result"
    }
   ],
   "source": [
    "reg.coef_, reg.intercept_"
   ]
  },
  {
   "cell_type": "markdown",
   "metadata": {},
   "source": [
    "Therefore, the equation formed is-\n",
    "\n",
    "$Mom\\_Age = 0.07*Mom\\_weight + 0.05*Mom\\_height - 0.5*Religion + 0.96*Baby\\_Gender -0.33*Baby\\_Birth\\_Weight + 10.3$"
   ]
  },
  {
   "cell_type": "code",
   "execution_count": 69,
   "metadata": {},
   "outputs": [],
   "source": [
    "y_train_pred = reg.predict(X_train)"
   ]
  },
  {
   "cell_type": "code",
   "execution_count": 70,
   "metadata": {},
   "outputs": [
    {
     "data": {
      "text/plain": [
       "0.031245741793108683"
      ]
     },
     "execution_count": 70,
     "metadata": {},
     "output_type": "execute_result"
    }
   ],
   "source": [
    "r2_score(y_train, y_train_pred)"
   ]
  },
  {
   "cell_type": "code",
   "execution_count": 71,
   "metadata": {},
   "outputs": [],
   "source": [
    "y_test_pred = reg.predict(X_test)"
   ]
  },
  {
   "cell_type": "code",
   "execution_count": 72,
   "metadata": {},
   "outputs": [
    {
     "data": {
      "text/plain": [
       "-0.11253467249724003"
      ]
     },
     "execution_count": 72,
     "metadata": {},
     "output_type": "execute_result"
    }
   ],
   "source": [
    "r2_score(y_test, y_test_pred)"
   ]
  },
  {
   "cell_type": "markdown",
   "metadata": {},
   "source": [
    "### 3. Measure the performance of the MLR model on the following metrics:\n",
    "1. Accuracy \n",
    "2. Misclassification Rate/ Error \n",
    "3. Precision & Recall \n",
    "4. R2 score \n",
    "5. Draw the Confusion matrix "
   ]
  },
  {
   "cell_type": "code",
   "execution_count": 74,
   "metadata": {},
   "outputs": [
    {
     "data": {
      "text/plain": [
       "-0.11253467249724003"
      ]
     },
     "execution_count": 74,
     "metadata": {},
     "output_type": "execute_result"
    }
   ],
   "source": [
    "r2_score(y_test, y_test_pred)"
   ]
  },
  {
   "cell_type": "code",
   "execution_count": 75,
   "metadata": {},
   "outputs": [
    {
     "data": {
      "text/plain": [
       "4.642641256313187"
      ]
     },
     "execution_count": 75,
     "metadata": {},
     "output_type": "execute_result"
    }
   ],
   "source": [
    "mean_absolute_error(y_test, y_test_pred)"
   ]
  },
  {
   "cell_type": "code",
   "execution_count": 76,
   "metadata": {},
   "outputs": [
    {
     "data": {
      "text/plain": [
       "30.439842365438686"
      ]
     },
     "execution_count": 76,
     "metadata": {},
     "output_type": "execute_result"
    }
   ],
   "source": [
    "mean_squared_error(y_test, y_test_pred)"
   ]
  }
 ],
 "metadata": {
  "kernelspec": {
   "display_name": "Python 3",
   "language": "python",
   "name": "python3"
  },
  "language_info": {
   "codemirror_mode": {
    "name": "ipython",
    "version": 3
   },
   "file_extension": ".py",
   "mimetype": "text/x-python",
   "name": "python",
   "nbconvert_exporter": "python",
   "pygments_lexer": "ipython3",
   "version": "3.7.3"
  }
 },
 "nbformat": 4,
 "nbformat_minor": 2
}
